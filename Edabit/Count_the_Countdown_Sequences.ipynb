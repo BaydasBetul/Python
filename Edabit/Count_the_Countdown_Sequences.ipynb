{
  "nbformat": 4,
  "nbformat_minor": 0,
  "metadata": {
    "colab": {
      "name": "Count_the_Countdown_Sequences.ipynb",
      "provenance": []
    },
    "kernelspec": {
      "name": "python3",
      "display_name": "Python 3"
    },
    "language_info": {
      "name": "python"
    }
  },
  "cells": [
    {
      "cell_type": "code",
      "metadata": {
        "colab": {
          "base_uri": "https://localhost:8080/"
        },
        "id": "bNOQrC5_LnTq",
        "outputId": "5dfdda4c-f011-4a76-b719-3fbd7299faec"
      },
      "source": [
        "def final_countdown(l):\n",
        "  l=l[::-1]\n",
        "  yeni={}\n",
        "  count=0\n",
        "  for i in range(len(l)):\n",
        "    if l[i]==1:\n",
        "      count+=1\n",
        "      yeni[count]=[l[i]]\n",
        "      if i==len(l)-1:\n",
        "        break\n",
        "      else:\n",
        "        while l[i+1]==l[i]+1:\n",
        "          yeni[count].append(l[i+1])\n",
        "          if i<len(l)-2:\n",
        "            i+=1\n",
        "          else:\n",
        "            break\n",
        "  for i in yeni:\n",
        "    yeni[i]=yeni[i][::-1]\n",
        "  return [len(yeni),list(yeni.values())[::-1]]\n",
        "print(final_countdown([1, 1, 2, 1]))\n",
        "print(final_countdown([4, 8, 3, 2, 1, 2])) \n",
        "print(final_countdown([4, 4, 5, 4, 3, 2, 1, 8, 3, 2, 1])) \n",
        "print(final_countdown([4, 3, 2, 1, 3, 2, 1, 1])) \n",
        "print(final_countdown([]))        "
      ],
      "execution_count": 130,
      "outputs": [
        {
          "output_type": "stream",
          "text": [
            "[3, [[1], [1], [2, 1]]]\n",
            "[1, [[3, 2, 1]]]\n",
            "[2, [[5, 4, 3, 2, 1], [3, 2, 1]]]\n",
            "[3, [[4, 3, 2, 1], [3, 2, 1], [1]]]\n",
            "[0, []]\n"
          ],
          "name": "stdout"
        }
      ]
    }
  ]
}