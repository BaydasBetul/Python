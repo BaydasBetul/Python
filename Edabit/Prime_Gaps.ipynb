{
  "nbformat": 4,
  "nbformat_minor": 0,
  "metadata": {
    "colab": {
      "name": "Prime_Gaps.ipynb",
      "provenance": []
    },
    "kernelspec": {
      "name": "python3",
      "display_name": "Python 3"
    },
    "language_info": {
      "name": "python"
    }
  },
  "cells": [
    {
      "cell_type": "markdown",
      "metadata": {
        "id": "omc_A7Wrqu9x"
      },
      "source": [
        "Prime Gaps\n",
        "A prime gap of length n is a run of n-1 consecutive composite numbers between two successive primes. See this Resource for more information.\n",
        "\n",
        "The prime numbers are not regularly spaced. For example gap between:\n",
        "\n",
        "2 and 3 is 1\n",
        "3 and 5 is 2\n",
        "7 and 11 is 4\n",
        "Create a function with following parameters:\n",
        "\n",
        "g (integer >= 2)\n",
        " Gap between the consecutive primes\n",
        "\n",
        "a (integer > 2)\n",
        " Start of the search (a inclusive)\n",
        "\n",
        "b (integer >= a)\n",
        " End of the search (b inclusive)\n",
        "... and returns the first pair of two prime numbers spaced with a gap of g between the limits a and b.\n",
        "\n",
        "prime_gaps(2, 3, 50) ➞ [3, 5]\n",
        "\n",
        " Between 2 and 50 we have the following pairs of 2-gaps primes:\n",
        " 3-5, 5-7, 11-13, 17-19, 29-31, 41-43.\n",
        "\n",
        "[3, 5] is the first pair between 3 and 50 with a 2-gap.\n",
        "Examples\n",
        "\n",
        "prime_gaps(2, 5, 7) ➞ [5, 7]\n",
        "\n",
        "prime_gaps(2, 5, 5) ➞ None\n",
        "\n",
        "prime_gaps(4, 130, 200) ➞ [163, 167]\n",
        "\n",
        "Notes\n",
        "Return None if consecutive prime numbers are not found with the required gap."
      ]
    },
    {
      "cell_type": "code",
      "metadata": {
        "colab": {
          "base_uri": "https://localhost:8080/"
        },
        "id": "pWxACtMXeBUu",
        "outputId": "51c990a7-44a2-4a42-99e3-66ce5bb9409e"
      },
      "source": [
        "def prime_mı(a):\n",
        "  for i in range(2,a):\n",
        "    return  False if not a%i and i!=2 else True\n",
        "def gap(x,y,z):\n",
        "  prime_list=[i for i in range(y,z+1) if prime_mı(i)]\n",
        "  sonuc=[[prime_list[i],prime_list[k]] for i in range(len(prime_list)) for k in range(i+1,len(prime_list)) if prime_list[k]-prime_list[i]==x ]      \n",
        "  return sonuc[0] if sonuc else None\n",
        "  \n",
        "\n",
        "print(gap(2,3,50))\n",
        "print(gap(2, 5, 7))\n",
        "print(gap(4, 130, 200))\n",
        "print(gap(2, 5, 5))"
      ],
      "execution_count": 11,
      "outputs": [
        {
          "output_type": "stream",
          "text": [
            "[3, 5]\n",
            "[5, 7]\n",
            "[130, 134]\n",
            "None\n"
          ],
          "name": "stdout"
        }
      ]
    }
  ]
}