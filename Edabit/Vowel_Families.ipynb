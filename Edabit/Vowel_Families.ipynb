{
  "nbformat": 4,
  "nbformat_minor": 0,
  "metadata": {
    "colab": {
      "name": "Vowel_Families.ipynb",
      "provenance": []
    },
    "kernelspec": {
      "name": "python3",
      "display_name": "Python 3"
    },
    "language_info": {
      "name": "python"
    }
  },
  "cells": [
    {
      "cell_type": "markdown",
      "metadata": {
        "id": "CytHZBEk8kGE"
      },
      "source": [
        "Write a function that selects all words that have all the same vowels (in any order and/or number) as the first word, including the first word.\n",
        "\n",
        "Examples\n",
        "same_vowel_group([\"toe\", \"ocelot\", \"maniac\"]) ➞ [\"toe\", \"ocelot\"]\n",
        "\n",
        "same_vowel_group([\"many\", \"carriage\", \"emit\", \"apricot\", \"animal\"]) ➞ [\"many\"]\n",
        "\n",
        "same_vowel_group([\"hoops\", \"chuff\", \"bot\", \"bottom\"]) ➞ [\"hoops\", \"bot\", \"bottom\"]\n",
        "\n",
        "Notes\n",
        "Words will contain only lowercase letters, and may contain whitespaces.\n",
        "Frequency does not matter (e.g. if the first word is \"loopy\", then you can include words with any number of o's, so long as they only contain o's, and not any other vowels)."
      ]
    },
    {
      "cell_type": "code",
      "metadata": {
        "colab": {
          "base_uri": "https://localhost:8080/"
        },
        "id": "WJMq5o_OpLGY",
        "outputId": "b20e9f4e-c1cd-4c16-c52e-e62ed3d9f32b"
      },
      "source": [
        "def same_vowel_group(liste):\n",
        "  vowel=\"aeiou\"\n",
        "  sozluk={}\n",
        "  for i in liste:\n",
        "    for k in i:\n",
        "      if k in vowel and i not in sozluk:\n",
        "        sozluk[i]=[k]\n",
        "      elif i in sozluk and if k not in sozluk[i]:\n",
        "        sozluk[i].append(k)\n",
        "  sonuc=[] \n",
        "  for i in sozluk :\n",
        "    for k in sozluk:\n",
        "      if i!=k and sozluk[i]==sozluk[k] and i not in sonuc:\n",
        "        sonuc.append(i)\n",
        "  if not sonuc:\n",
        "    return [liste[0]]\n",
        "  else:\n",
        "    return sonuc\n",
        "same_vowel_group([\"hoops\", \"chuff\", \"bot\", \"bottom\"])\n",
        " "
      ],
      "execution_count": 23,
      "outputs": [
        {
          "output_type": "execute_result",
          "data": {
            "text/plain": [
              "['hoops', 'bot', 'bottom']"
            ]
          },
          "metadata": {
            "tags": []
          },
          "execution_count": 23
        }
      ]
    }
  ]
}