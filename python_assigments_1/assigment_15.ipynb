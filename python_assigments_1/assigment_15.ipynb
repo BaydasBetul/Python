{
  "nbformat": 4,
  "nbformat_minor": 0,
  "metadata": {
    "colab": {
      "name": "assigment_15.ipynb",
      "provenance": [],
      "collapsed_sections": []
    },
    "kernelspec": {
      "name": "python3",
      "display_name": "Python 3"
    },
    "language_info": {
      "name": "python"
    }
  },
  "cells": [
    {
      "cell_type": "markdown",
      "metadata": {
        "id": "uldz7Hu_lEH1"
      },
      "source": [
        "İsmi \"A\" ile başlayan isimleri bulalım ve sözlükten silip, sözlüğün son halini yazdıralım."
      ]
    },
    {
      "cell_type": "code",
      "metadata": {
        "colab": {
          "base_uri": "https://localhost:8080/"
        },
        "id": "pIb99n8uk94h",
        "outputId": "dde32c49-bea2-4e98-823f-f59f99df200e"
      },
      "source": [
        "family={\"name1\":\"Raife\",\n",
        "        \"name2\":\"Arif\",\n",
        "        \"name3\":\"Nihal\",\n",
        "        \"name4\":\"Mehmet\",\n",
        "        \"name4\":\"Ayşe\"}\n",
        "\n",
        "for i in list(family.values()):\n",
        "  if i[0]==\"A\":\n",
        "    print(i)\n",
        "    b=list(family.keys())[list(family.values()).index(i)]\n",
        "    del family[b]\n",
        "    print(family)"
      ],
      "execution_count": 1,
      "outputs": [
        {
          "output_type": "stream",
          "text": [
            "Arif\n",
            "{'name1': 'Raife', 'name3': 'Nihal', 'name4': 'Ayşe'}\n",
            "Ayşe\n",
            "{'name1': 'Raife', 'name3': 'Nihal'}\n"
          ],
          "name": "stdout"
        }
      ]
    }
  ]
}