{
  "nbformat": 4,
  "nbformat_minor": 0,
  "metadata": {
    "colab": {
      "name": "assigment_28.ipynb",
      "provenance": [],
      "collapsed_sections": []
    },
    "kernelspec": {
      "name": "python3",
      "display_name": "Python 3"
    },
    "language_info": {
      "name": "python"
    }
  },
  "cells": [
    {
      "cell_type": "markdown",
      "metadata": {
        "id": "m6mpeZD3uY5A"
      },
      "source": [
        "Example:\n",
        "\n",
        "Input:\n",
        "\n",
        "[\"eat\", \"tea\", \"tan\", \"ate\", \"nat\", \"bat\"]\n",
        "\n",
        "Output:\n",
        "\n",
        "[\n",
        "  [\"ate\",\"eat\",\"tea\"],\n",
        "  [\"nat\",\"tan\"],\n",
        "  [\"bat\"]\n",
        "]\n",
        "\n",
        "Note:\n",
        "All inputs will be in lowercase.\n",
        "The order of your output does not matter."
      ]
    },
    {
      "cell_type": "code",
      "metadata": {
        "colab": {
          "base_uri": "https://localhost:8080/"
        },
        "id": "DuYyKKekGoOh",
        "outputId": "5f90a539-561f-4686-aa71-eb68525a7d8f"
      },
      "source": [
        "liste=[\"eat\", \"tea\", \"tan\",\"ate\", \"nat\", \"bat\"]\n",
        "seti=[]\n",
        "sonuc=[]\n",
        "for i in liste:\n",
        "  if set(i) not in seti:\n",
        "    seti.append(set(i))\n",
        "for a in range(len(seti)):\n",
        "  sonuc.append([i.lower() for i in liste if set(i)==seti[a]])\n",
        "\n",
        "print(sonuc)    \n"
      ],
      "execution_count": 64,
      "outputs": [
        {
          "output_type": "stream",
          "text": [
            "[['eat', 'tea', 'ate'], ['tan', 'nat'], ['bat']]\n"
          ],
          "name": "stdout"
        }
      ]
    }
  ]
}