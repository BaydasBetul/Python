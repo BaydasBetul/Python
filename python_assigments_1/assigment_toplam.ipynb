{
  "nbformat": 4,
  "nbformat_minor": 0,
  "metadata": {
    "colab": {
      "name": "assigment_toplam.ipynb",
      "provenance": [],
      "collapsed_sections": []
    },
    "kernelspec": {
      "name": "python3",
      "display_name": "Python 3"
    },
    "language_info": {
      "name": "python"
    }
  },
  "cells": [
    {
      "cell_type": "markdown",
      "metadata": {
        "id": "hseVvaXSTLc7"
      },
      "source": [
        "**1** Sansürlü kelimeyi düzeltelim."
      ]
    },
    {
      "cell_type": "code",
      "metadata": {
        "id": "1Dhh2zUiP0-7"
      },
      "source": [
        "def sansür(sansürlü,sesli):\n",
        "  n=0\n",
        "  for i in sansürlü:\n",
        "    if i ==\"*\":\n",
        "        sansürlü=sansürlü.replace(\"*\",sesli[n],1)\n",
        "        n+=1\n",
        "  return sansürlü     \n",
        "print(sansür(\"pyth*n\", \"o\"))\n",
        "print(sansür(\"*r*b*m* p*rk *tt*m\",\"aaaıaei\"))"
      ],
      "execution_count": null,
      "outputs": []
    },
    {
      "cell_type": "markdown",
      "metadata": {
        "id": "0aCUpPxjTPfA"
      },
      "source": [
        "**2** Girdisi string olan ifadenin içerisindeki harflerin türkçe alfabesindeki yerlerini bulup, hepsinin değerlerini toplayıp sonuç çiftse True tekse False yazdıran bir fonksiyon yazınız."
      ]
    },
    {
      "cell_type": "code",
      "metadata": {
        "id": "HyfvTNRwTP-i"
      },
      "source": [
        "def kelime_çift_mi(cümle):\n",
        "  buyuk=\"ABCÇDEFGĞHIİJKLMNOÖPRSŞTUÜVYZ\"\n",
        "  kucuk=\"abcçdefgğhıijklmnoöprsştuüvyz\"\n",
        "  toplam=0\n",
        "  for i in cümle:\n",
        "    if i in buyuk:\n",
        "      toplam+=buyuk.index(i)+1\n",
        "    elif i in kucuk:\n",
        "      toplam+=kucuk.index(i)+1\n",
        "    \n",
        "  if toplam % 2 ==0:\n",
        "    return True\n",
        "  else:\n",
        "    return False\n",
        "\n",
        "print(kelime_çift_mi(\"Bilgisayar\"))"
      ],
      "execution_count": null,
      "outputs": []
    },
    {
      "cell_type": "markdown",
      "metadata": {
        "id": "wxo-fiQrTk5w"
      },
      "source": [
        "**3** Sudoku her 3-3 lük karede 1'den 9'a kadar olan rakamların birer kez yer alması gerektiği temeline dayanan bir zeka oyunudur. Su doku olup olmadığını inceleyen, sudoku ise True değil ise False değeri veren bir fonksiyon yazalım."
      ]
    },
    {
      "cell_type": "code",
      "metadata": {
        "id": "37fPq8YRTlcC"
      },
      "source": [
        "def sudoku_mu(sudoku):\n",
        "  toplam=0\n",
        "  yen_sudoku=[]\n",
        "  for i in sudoku:\n",
        "    if i[0]==i[1] or i[0]==i[2] or i[1]==i[2]:\n",
        "      return False\n",
        "    for k in i:\n",
        "      yen_sudoku.append(k)\n",
        "      if len(set(yen_sudoku))!=9:\n",
        "        return False\n",
        "      if k<1 or k>9:\n",
        "        return False\n",
        "      else:\n",
        "        toplam+=k\n",
        "  if toplam==45:\n",
        "    return True\n",
        "  else:\n",
        "    return False\n",
        "                 \n",
        "print(sudoku_mu([[7, 6, 2], [7, 6, 2], [7, 6, 2]]))\n",
        "print(sudoku_mu([[1, 5, 2], [8, 9, 8], [3, 5, 6]])) "
      ],
      "execution_count": null,
      "outputs": []
    },
    {
      "cell_type": "markdown",
      "metadata": {
        "id": "NZuIN_n_Tz9_"
      },
      "source": [
        "**4** Satrançta vezirler hangi durumda birbirini yer. Vezir yatay,dikey ve çapraz olarak hareket edebiliyor."
      ]
    },
    {
      "cell_type": "code",
      "metadata": {
        "id": "Y3ZINYs1T0oZ"
      },
      "source": [
        "def vezir(oyuncular):\n",
        "  p1= oyuncular[0]\n",
        "  p2=oyuncular[1]\n",
        "  if p1[0]==p2[0] or p1[1]==p2[1]:\n",
        "    return True\n",
        "  tahtax = \"ABCDEFGH\"\n",
        "  tahtay = \"12345678\"\n",
        "  mesafex = abs(tahtax.index(p1[0]) - tahtax.index(p2[0]))\n",
        "  mesafey = abs(tahtay.index(p1[1]) - tahtay.index(p2[1]))\n",
        "  if mesafex == mesafey:\n",
        "    return True\n",
        "  else:\n",
        "    return False"
      ],
      "execution_count": null,
      "outputs": []
    },
    {
      "cell_type": "markdown",
      "metadata": {
        "id": "waBgACgfUGyj"
      },
      "source": [
        "**5** Şubat ayının 29 çektiği yıllar artık yıllardır. Girilen input değerinin artık yıl olup olmadığını bulalım"
      ]
    },
    {
      "cell_type": "code",
      "metadata": {
        "id": "3ll0SlTBUHQp"
      },
      "source": [
        "while True:\n",
        "  leap_year = input(\"Lütfen dört haneli bir yıl giriniz. \")\n",
        "  try:\n",
        "    ileap_year = int(leap_year)\n",
        "  except:\n",
        "    print(\"Geçersiz veri! Lütfen rakamlarla dört haneli bir yıl giriniz.\")\n",
        "    continue\n",
        "    if ileap_year %400==0:\n",
        "      print(f\"{ileap_year} artık yıldır.\")\n",
        "    elif ileap_year %100 ==0:\n",
        "      print(f\"{ileap_year} artık yıl değildir.\")\n",
        "    elif ileap_year % 4 ==0:\n",
        "      print(f\"{ileap_year} artık yıldır.\")\n",
        "    else:\n",
        "      print(f\"{ileap_year} artık yıl değildir.\")\n",
        "    break  "
      ],
      "execution_count": null,
      "outputs": []
    },
    {
      "cell_type": "markdown",
      "metadata": {
        "id": "w9pC0yrhUWxd"
      },
      "source": [
        "**6** Write a program that repeatedly prompts a user for integer numbers until the user enters 'done'. Once 'done' is entered, print out the largest and smallest of the numbers. If the user enters anything other than a valid number catch it with a try/except and put out an appropriate message and ignore the number. Enter 7, 2, bob, 10, and 4 and match the output below."
      ]
    },
    {
      "cell_type": "code",
      "metadata": {
        "id": "iec8KrcgUXQ5"
      },
      "source": [
        "liste=[]\n",
        "while True:\n",
        "    num = input(\"Enter a number: \")\n",
        "    if num == \"done\" : \n",
        "        break\n",
        "    try:\n",
        "      inum = int(num)\n",
        "    except:\n",
        "      print(\"Invalid input\")\n",
        "      continue\n",
        "    if int(num)==inum:\n",
        "      liste.append(inum)\n",
        "     \n",
        "print(\"Maximum is\", max(liste))\n",
        "print(\"Minimum is\", min(liste))"
      ],
      "execution_count": null,
      "outputs": []
    },
    {
      "cell_type": "markdown",
      "metadata": {
        "id": "LL5SVqTKVgi7"
      },
      "source": [
        "**7** Write a program to prompt the user for hours and rate per hour using input to compute gross pay. Pay should be the normal rate for hours up to 40 and time-and-a-half for the hourly rate for all hours worked above 40 hours. Put the logic to do the computation of pay in a function called computepay() and use the function to do the computation. The function should return a value. Use 45 hours and a rate of 10.50 per hour to test the program (the pay should be 498.75). You should use input to read a string and float() to convert the string to a number. Do not worry about error checking the user input unless you want to - you can assume the user types numbers properly. Do not name your variable sum or use the sum() function"
      ]
    },
    {
      "cell_type": "code",
      "metadata": {
        "id": "eZpnMUhuVf0M"
      },
      "source": [
        "h = float(input(\"Enter Hours:\"))\n",
        "r = float(input(\"Enter rate: \"))\n",
        "\n",
        "def computepay(h,r):\n",
        "    if h>40:\n",
        "        p=40*r+(h-40)*r*1.5\n",
        "    else:\n",
        "        p=h*r\n",
        "    return p\n",
        "\n",
        "print(\"Pay\",computepay(h,r))"
      ],
      "execution_count": null,
      "outputs": []
    },
    {
      "cell_type": "markdown",
      "metadata": {
        "id": "ZTEs78htVwiE"
      },
      "source": [
        "**8** Write a program to prompt for a score between 0.0 and 1.0. If the score is out of range, print an error. If the score is between 0.0 and 1.0, print a grade using the following table: Score Grade\n",
        "\n",
        "0.9 A\n",
        "\n",
        "0.8 B\n",
        "\n",
        "0.7 C\n",
        "\n",
        "0.6 D\n",
        "\n",
        "0.6 F\n",
        "\n",
        "If the user enters a value out of range, print a suitable error message and exit. For the test, enter a score of 0.85"
      ]
    },
    {
      "cell_type": "code",
      "metadata": {
        "id": "Jc4luHy7Vw_X"
      },
      "source": [
        "score = input(\"Enter Score: \")\n",
        "s = float(score)\n",
        "if s>=0.0 and s<=1.0:\n",
        "\tif s>=0.9:\n",
        "\t\tprint(\"A\")\n",
        "\telif s>=0.8:\n",
        "\t\tprint(\"B\")\n",
        "\telif s>=0.7:\n",
        "\t\tprint(\"C\")\n",
        "\telif s>=0.6:\n",
        "\t\tprint(\"D\")\n",
        "\telif s<0.6:\n",
        "\t\tprint(\"F\")\n",
        "else:\n",
        "    print(\"Error\")"
      ],
      "execution_count": null,
      "outputs": []
    },
    {
      "cell_type": "markdown",
      "metadata": {
        "id": "jVtCSpJhWBzj"
      },
      "source": [
        "**9** Yazi olarak girilen string ifadenin içindeki harfler tamamen büyük veya tamamen küçük ise True, küçük ve büyük harlerden oluşmuş ise False veren bir fonksiyon yazalım. "
      ]
    },
    {
      "cell_type": "code",
      "metadata": {
        "id": "L4m48ymmWCUg"
      },
      "source": [
        "def büyük_kücük(yazi):\n",
        "  if yazi.upper()==yazi or yazi.lower()==yazi:\n",
        "    return True\n",
        "  else:\n",
        "    return False\n",
        "\n",
        " \n",
        "print(büyük_kücük(\"Merhaba\"))\n",
        "print(büyük_kücük(\"merhaba\"))\n",
        "print(büyük_kücük(\"merHaba\"))\n",
        "print(büyük_kücük(\"MERHABA\"))\n"
      ],
      "execution_count": null,
      "outputs": []
    },
    {
      "cell_type": "markdown",
      "metadata": {
        "id": "CqOlm2bMWVr2"
      },
      "source": [
        "**10** Sayıyı kalansız bölen sayıları bulan bir fonksiyon yazalım"
      ]
    },
    {
      "cell_type": "code",
      "metadata": {
        "id": "HrCCafKPWWIL"
      },
      "source": [
        "def carpanlarina_ayir(sayi):\n",
        "  carpanlar=[]\n",
        "  for i in range(1,sayi+1):\n",
        "    if sayi % i ==0:\n",
        "      carpanlar.append(i)\n",
        "      \n",
        "  return carpanlar\n",
        "\n",
        "\n",
        "print(carpanlarina_ayir(250))"
      ],
      "execution_count": null,
      "outputs": []
    },
    {
      "cell_type": "markdown",
      "metadata": {
        "id": "1timus0iWxmw"
      },
      "source": [
        "**11** Sayının faktöriyelini hesaplayan fonksiyon yazalım."
      ]
    },
    {
      "cell_type": "code",
      "metadata": {
        "id": "GHgT6M-uWx_A"
      },
      "source": [
        "def factorial(sayi):\n",
        "  sonuc=1\n",
        "  i=1 \n",
        "  while i<sayi+1:\n",
        "    sonuc*=i\n",
        "    i+=1\n",
        "  return sonuc\n",
        "\n",
        "print(factorial(8))"
      ],
      "execution_count": null,
      "outputs": []
    },
    {
      "cell_type": "markdown",
      "metadata": {
        "id": "O6CNNQ7VXcps"
      },
      "source": [
        "**12** Task : Find out the most frequent number and its frequency.\n",
        "\n",
        "Write a program that;\n",
        "\n",
        "Finds out the most frequent number in the given list.\n",
        "Calculates its frequency.\n",
        "Prints out the result such as :\n",
        "\n",
        "Example\n",
        "\n",
        "Given list\n",
        "\n",
        "numbers = [1, 3, 7, 4, 3, 0, 3, 6, 3]\n",
        "\n",
        "Output\n",
        "\n",
        "The most frequent number is 3 and it was 4 times repeated"
      ]
    },
    {
      "cell_type": "code",
      "metadata": {
        "id": "X_i6ONR5Xc_9"
      },
      "source": [
        "numbers=[1, 3, 7, 4, 3, 0, 3, 6, 3]\n",
        "a=max(numbers, key = numbers.count)\n",
        "b= numbers.count(a)\n",
        "print(f\"The most frequent number is {a} and it was {b} times repeated\")"
      ],
      "execution_count": null,
      "outputs": []
    },
    {
      "cell_type": "code",
      "metadata": {
        "id": "fgmJ5UEvX5OS"
      },
      "source": [
        "numbers=[1, 3, 7, 4, 3, 0, 3, 6, 3]\n",
        "a=sorted(numbers, key=numbers.count, reverse=True)\n",
        "b=numbers.count(a[0])\n",
        "print(f\"The most frequent number is {a[0]} and it was {b} times repeated\")"
      ],
      "execution_count": null,
      "outputs": []
    },
    {
      "cell_type": "code",
      "metadata": {
        "id": "PX9IRH63YP3e"
      },
      "source": [
        "numbers=[1, 3, 7, 4, 3, 0, 3, 6, 3]\n",
        "kac_kere=[]\n",
        "for i in numbers:\n",
        "  kac_kere.append(numbers.count(i))\n",
        "if numbers.count(i)==max(kac_kere):\n",
        "  print(f\"The most frequent number is {i} and it was {max(kac_kere)} times repeated\")"
      ],
      "execution_count": null,
      "outputs": []
    },
    {
      "cell_type": "markdown",
      "metadata": {
        "id": "PJFgQX1MYRtz"
      },
      "source": [
        "**13** 12. soruda eğer listeyi kullanıcıdan alırsak"
      ]
    },
    {
      "cell_type": "code",
      "metadata": {
        "id": "cRg11CI8Ybol"
      },
      "source": [
        "numbers=list(map(int,input(\"Lütfen sayıları boşluk bırakarak giriniz: \").split()))\n",
        "kac_kere=[]\n",
        "for i in numbers:\n",
        "  kac_kere.append(numbers.count(i))\n",
        "if numbers.count(i)==max(kac_kere):\n",
        "  print(f\"The most frequent number is {i} and it was {max(kac_kere)} times repeated\")"
      ],
      "execution_count": null,
      "outputs": []
    },
    {
      "cell_type": "markdown",
      "metadata": {
        "id": "DxEsmt8SYg1p"
      },
      "source": [
        "**14** Task - 1 : You work for a manufacturer as a programmer and have been asked to calculate the total profit made on the sales of a product. You are given a dictionary (sales) containing the cost price per unit (in dollars), sell price per unit (in dollars), and the beginning inventory. Write a program to return the total profit made, rounded to the nearest dollar. Assume all of the inventory has been sold. The name and the keys of the dictionary are constant, so use them as they are. The example of the values (sell-cost value, inventory) and total profit :\n",
        "\n",
        "sales = { \"cost_value\": 31.87, \"sell_value\": 45.00, \"inventory\": 1000 }"
      ]
    },
    {
      "cell_type": "code",
      "metadata": {
        "id": "VQxdBcHNYhRH"
      },
      "source": [
        "sales = {\n",
        "  \"cost_value\": 31.87,\n",
        "  \"sell_value\": 45.00,\n",
        "  \"inventory\": 1000\n",
        "}  \n",
        "total_profit=round((sales[\"sell_value\"]-sales[\"cost_value\"])*sales[\"inventory\"])\n",
        "print(total_profit)"
      ],
      "execution_count": null,
      "outputs": []
    },
    {
      "cell_type": "markdown",
      "metadata": {
        "id": "-XDiD5dlY3gq"
      },
      "source": [
        "**15** İsmi \"A\" ile başlayan isimleri bulalım ve sözlükten silip, sözlüğün son halini yazdıralım."
      ]
    },
    {
      "cell_type": "code",
      "metadata": {
        "id": "jNrjjfmGY39s"
      },
      "source": [
        "family={\"name1\":\"Raife\",\n",
        "        \"name2\":\"Arif\",\n",
        "        \"name3\":\"Nihal\",\n",
        "        \"name4\":\"Mehmet\",\n",
        "        \"name4\":\"Ayşe\"}\n",
        "\n",
        "for i in list(family.values()):\n",
        "  if i[0]==\"A\":\n",
        "    print(i)\n",
        "    b=list(family.keys())[list(family.values()).index(i)]\n",
        "    del family[b]\n",
        "    print(family)"
      ],
      "execution_count": null,
      "outputs": []
    },
    {
      "cell_type": "markdown",
      "metadata": {
        "id": "HisSx1LtZKNB"
      },
      "source": [
        "**16** Sayı ve string paramestresi alan, sayıyı geriye doğru aralarında * olacak şekilde yazdıran, sonuna verilen stringi büyük harflerle ekleyen ve en sona ! işareti koyan bir fonksiyon yazalım"
      ]
    },
    {
      "cell_type": "code",
      "metadata": {
        "id": "6WtPiklyZcuk"
      },
      "source": [
        "ÖRNEK\n",
        "geri_say(3,\"go\")--> \"3*2*1*GO!\""
      ],
      "execution_count": null,
      "outputs": []
    },
    {
      "cell_type": "code",
      "metadata": {
        "id": "wpeieaJOZKru"
      },
      "source": [
        "def geri_say(n, yazi):\n",
        "  sonuc=\"\"\n",
        "  for i in range(n,0,-1):\n",
        "    sonuc+=str(i)+\"*\"\n",
        "  sonuc+=str(yazi.upper())+\"!\"\n",
        "  return sonuc\n",
        "    \n",
        "print(geri_say(10, \"iyi ki doğdun\"))"
      ],
      "execution_count": null,
      "outputs": []
    },
    {
      "cell_type": "markdown",
      "metadata": {
        "id": "gihyofpVZf-L"
      },
      "source": [
        "**17** sayı ve üs olarak iki parametre alan ve hesaplamanın sonucunu veren bir fonksiyon yazalım"
      ]
    },
    {
      "cell_type": "code",
      "metadata": {
        "id": "cU3vHqAQZgmZ"
      },
      "source": [
        "def üs_hesapla(sayi,üs):\n",
        "  return sayi**üs\n",
        "\n",
        "print(üs_hesapla(7,3))"
      ],
      "execution_count": null,
      "outputs": []
    },
    {
      "cell_type": "markdown",
      "metadata": {
        "id": "6i-tHuvdZyZW"
      },
      "source": [
        "Sırasıyla tavuk, inek ve koyunların sayısı verildiğinde toplam bacak sayısını hesaplayan fonksiyon yazalım."
      ]
    },
    {
      "cell_type": "code",
      "metadata": {
        "id": "aPU5zxHVZ8cK"
      },
      "source": [
        "def bacak_say(t,i,k):\n",
        "  return (t*2 + i*4 + k*4)\n",
        "print(bacak_say(3,4,2))"
      ],
      "execution_count": null,
      "outputs": []
    },
    {
      "cell_type": "markdown",
      "metadata": {
        "id": "uHkXIFWdaAOs"
      },
      "source": [
        "**18** Arif ve Raife listede yanyana duruyorlasa True döndüren durmuyorlarsa False döndüren bir fonksiyon yazalım."
      ]
    },
    {
      "cell_type": "code",
      "metadata": {
        "id": "y7UAotxnaApL"
      },
      "source": [
        "def yan_yana_mı(liste):\n",
        "  for i in liste:\n",
        "    if liste.index(\"Arif\")+1==liste.index(\"Raife\") or liste.index(\"Arif\")==liste.index(\"Raife\")+1:\n",
        "      return True\n",
        "    else:\n",
        "      return False\n",
        "  \n",
        "print(yan_yana_mı([\"Arif\",\"Raife\",\"Nihal\"]))\n",
        "print(yan_yana_mı([\"Arif\",\"Nihal\",\"Raife\"]))"
      ],
      "execution_count": null,
      "outputs": []
    },
    {
      "cell_type": "markdown",
      "metadata": {
        "id": "x0Bovv1UaOFk"
      },
      "source": [
        "**19** Cümlenin içindeki sesli harfleri kaldıran bir fonksiyon yazalım."
      ]
    },
    {
      "cell_type": "code",
      "metadata": {
        "id": "wXe3wX0GaOyc"
      },
      "source": [
        "def sessiz_yap(cümle):\n",
        "  sesli=\"aeıioöuüAEIİOÖUÜ\"\n",
        "  yeni=\"\"\n",
        "  for i in cümle:\n",
        "    if i not in sesli:\n",
        "      yeni+=i\n",
        "  return yeni\n",
        "print(sessiz_yap(\"Hayat beni neden yoruyosun?:)\"))"
      ],
      "execution_count": null,
      "outputs": []
    },
    {
      "cell_type": "markdown",
      "metadata": {
        "id": "JJp_SSi1acVv"
      },
      "source": [
        "**20** Tarihi yüzyıla çeviren bir fonksiyon yazalım."
      ]
    },
    {
      "cell_type": "code",
      "metadata": {
        "id": "xe1ASN4pacuv"
      },
      "source": [
        "def yüzyıl_yap(yıl):\n",
        "  return f\"{(yıl//100)+1}. yüzyıl\"\n",
        "print(yüzyıl_yap(1738))"
      ],
      "execution_count": null,
      "outputs": []
    },
    {
      "cell_type": "markdown",
      "metadata": {
        "id": "m0JXJqAfar1_"
      },
      "source": [
        "Listedeki her elemanı kendi indexi ile çarpıp toplamı veren bir fonksiyon yazalım."
      ]
    },
    {
      "cell_type": "code",
      "metadata": {
        "id": "ZCrFiZY4arUF"
      },
      "source": [
        "def carpip_topla(liste):\n",
        "  toplam=0\n",
        "  for i in liste:\n",
        "    toplam+=i*liste.index(i)\n",
        "  return toplam\n",
        "\n",
        "print(carpip_topla([1,2,3,4,5,6,7,8,9,10]))"
      ],
      "execution_count": null,
      "outputs": []
    },
    {
      "cell_type": "markdown",
      "metadata": {
        "id": "5udsgQFMa1HD"
      },
      "source": [
        "**21** Cümledeki sayı ve harflerin sayısını bulan bir fonksiyon yazalım"
      ]
    },
    {
      "cell_type": "code",
      "metadata": {
        "id": "9xnXVQjSa9xz"
      },
      "source": [
        "def harf_sayi_sayisi(cümle):\n",
        "  sayilar=\"0123456789\"\n",
        "  h=0\n",
        "  s=0\n",
        "  for i in cümle:\n",
        "    if i.isalpha()==True:\n",
        "      h+=1\n",
        "    elif i in sayilar:\n",
        "      s+=1\n",
        "  return f\"Harfler: {h}, Sayılar: {s}\"\n",
        "\n",
        "print(harf_sayi_sayisi(\"10'a kadar saysam ve sonrasında hayat bayram olsa.\"))"
      ],
      "execution_count": null,
      "outputs": []
    },
    {
      "cell_type": "markdown",
      "metadata": {
        "id": "n44CGHjVbEiQ"
      },
      "source": [
        "Yılı da verilen ayın gün sayısını hesaplayan bir fonksiyon yazalım."
      ]
    },
    {
      "cell_type": "code",
      "metadata": {
        "id": "gxbADGP8bE7j"
      },
      "source": [
        "def kac_gün(ay,yıl):\n",
        "  if ay==2:\n",
        "    if yıl%400==0:\n",
        "      return 29\n",
        "    elif yıl%100==0:\n",
        "      return 28\n",
        "    elif yıl%4==0:\n",
        "      return 29\n",
        "    else:\n",
        "      return 28\n",
        "  elif ay==1 or ay==3 or ay==5 or ay==7 or ay==8 or ay==10 or ay==12:\n",
        "    return 31\n",
        "  else:\n",
        "    return 30\n",
        "\n",
        "print(kac_gün( 4, 654))\n",
        "print(kac_gün( 2, 1737))\n",
        "print(kac_gün( 1, 2021))"
      ],
      "execution_count": null,
      "outputs": []
    },
    {
      "cell_type": "markdown",
      "metadata": {
        "id": "HNQy5-clbTHi"
      },
      "source": [
        "**22** Sayıların içindeki en büyük ve en küçük sayıyı veren fonksiyon yazalım. \n",
        "deger -->\"3 4 7 -5 7-9\" gibi olmalı"
      ]
    },
    {
      "cell_type": "code",
      "metadata": {
        "id": "t0bskjOxbeNP"
      },
      "source": [
        "def büyük_kücük(deger):\n",
        "  liste=deger.split()\n",
        "  for i in liste:\n",
        "    liste[liste.index(i)]=int(i)\n",
        "  return f\"{max(liste)} {min(liste)}\"\n",
        "\n",
        "print(büyük_kücük(\"3 2 4 6 -1 12\"))\n"
      ],
      "execution_count": null,
      "outputs": []
    },
    {
      "cell_type": "markdown",
      "metadata": {
        "id": "gSjK8uW7biY_"
      },
      "source": [
        "**23** Harfler ve boşluklardan oluşan stringin içindeki kelime nin uzunluğu beş veya dah fazla ise o kelimeyi ters çeviren bir fonksiyon yazalım."
      ]
    },
    {
      "cell_type": "code",
      "metadata": {
        "id": "3spWOLAGbmON"
      },
      "source": [
        "def ters_döndür(yazi):\n",
        "  liste=yazi.split()\n",
        "  yeni=\"\"\n",
        "  for i in liste:\n",
        "    if len(i)>=5:\n",
        "      yeni += i[::-1]+\" \"\n",
        "    else:\n",
        "      yeni+=i+\" \"\n",
        "  return yeni\n",
        "\n",
        "print(ters_döndür(\"Ah bir data scientist olabilsem:)\"))"
      ],
      "execution_count": null,
      "outputs": []
    },
    {
      "cell_type": "markdown",
      "metadata": {
        "id": "1MoCoP-xbsU1"
      },
      "source": [
        "**24** Yazının uzunluğu tek ise orta karakteri çift ise orta iki karakteri veren fonksiyon yazalım"
      ]
    },
    {
      "cell_type": "code",
      "metadata": {
        "id": "pSMd0XrGb1pO"
      },
      "source": [
        "def orta_karakter(yazi):\n",
        "  if len(yazi)%2==0:\n",
        "    return yazi[len(yazi)//2 -1 :len(yazi)//2 +1]\n",
        "  else:\n",
        "    return yazi[len(yazi)//2]\n",
        "\n",
        "print(orta_karakter(\"aşk\"))\n",
        "print(orta_karakter(\"sayı\"))\n",
        "print(orta_karakter(\"sabrın_sonu_selamet_mi?\"))"
      ],
      "execution_count": null,
      "outputs": []
    },
    {
      "cell_type": "markdown",
      "metadata": {
        "id": "cQXMDJMqb5Kf"
      },
      "source": [
        "a sayının hangi üssü b sonucunu verir? sorusunu cevaplayan fonksiyon yazalım "
      ]
    },
    {
      "cell_type": "code",
      "metadata": {
        "id": "9kchNyHab5n6"
      },
      "source": [
        "def üssü_bul(sayi,sonuc):\n",
        "  üs=0\n",
        "  while sonuc>=sayi:\n",
        "    sonuc//=sayi\n",
        "    üs+=1\n",
        "  return üs\n",
        "print(üssü_bul(2,32))\n",
        "print(üssü_bul(3,81))\n",
        "print(üssü_bul(5,125))"
      ],
      "execution_count": null,
      "outputs": []
    },
    {
      "cell_type": "markdown",
      "metadata": {
        "id": "iM5swA_EcQMQ"
      },
      "source": [
        "**25** String olarak verilen değeri sayıya dönüştüren fonksiyon yazalım. \n",
        "\n",
        ".k bini temsil eder.\n",
        "\n",
        "sayi(\"3.5k 7.4k\") --> [3500, 13500]"
      ]
    },
    {
      "cell_type": "code",
      "metadata": {
        "id": "COVvUup4ccWv"
      },
      "source": [
        "def sayi(deger):\n",
        "  liste=deger.split()\n",
        "  liste2=[]\n",
        "  for i in liste:\n",
        "    if \"k\" in i:\n",
        "      i=i.replace(\"k\",\"\")\n",
        "      liste2.append(int(float(i)*1000))\n",
        "    else:\n",
        "      liste2.append(i)\n",
        "  return liste2\n",
        "print(sayi(\"5.6k 8.3895k\"))"
      ],
      "execution_count": null,
      "outputs": []
    },
    {
      "cell_type": "markdown",
      "metadata": {
        "id": "6Hf2h8Tkch3r"
      },
      "source": [
        "n. fibonacci sayısını hesaplayan bir fonksiyon yazalım."
      ]
    },
    {
      "cell_type": "code",
      "metadata": {
        "id": "TfzWuwnnci_y"
      },
      "source": [
        "def fib(n):\n",
        "  sonuc=0\n",
        "  if n==0:\n",
        "    sonuc=0\n",
        "  elif n==1:\n",
        "    sonuc=1\n",
        "  elif n==2:\n",
        "    sonuc=1\n",
        "  elif n>2:\n",
        "    sonuc=fib(n-2)+fib(n-1)\n",
        "  return sonuc\n",
        "\n",
        "print(fib(8))\n",
        "print(fib(9))\n",
        "print(fib(10))"
      ],
      "execution_count": null,
      "outputs": []
    }
  ]
}