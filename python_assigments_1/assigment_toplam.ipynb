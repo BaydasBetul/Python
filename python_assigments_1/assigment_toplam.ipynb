{
  "nbformat": 4,
  "nbformat_minor": 0,
  "metadata": {
    "colab": {
      "name": "assigment_toplam.ipynb",
      "provenance": [],
      "collapsed_sections": []
    },
    "kernelspec": {
      "name": "python3",
      "display_name": "Python 3"
    },
    "language_info": {
      "name": "python"
    }
  },
  "cells": [
    {
      "cell_type": "markdown",
      "metadata": {
        "id": "hseVvaXSTLc7"
      },
      "source": [
        "**1** Sansürlü kelimeyi düzeltelim."
      ]
    },
    {
      "cell_type": "code",
      "metadata": {
        "id": "1Dhh2zUiP0-7",
        "colab": {
          "base_uri": "https://localhost:8080/"
        },
        "outputId": "4c05b98e-b58a-4f03-aee1-cc04354b87b9"
      },
      "source": [
        "def sansür(sansürlü,sesli):\n",
        "  n=0\n",
        "  for i in sansürlü:\n",
        "    if i ==\"*\":\n",
        "        sansürlü=sansürlü.replace(\"*\",sesli[n],1)\n",
        "        n+=1\n",
        "  return sansürlü     \n",
        "print(sansür(\"pyth*n\", \"o\"))\n",
        "print(sansür(\"*r*b*m* p*rk *tt*m\",\"aaaıaei\"))"
      ],
      "execution_count": 66,
      "outputs": [
        {
          "output_type": "stream",
          "text": [
            "python\n",
            "arabamı park ettim\n"
          ],
          "name": "stdout"
        }
      ]
    },
    {
      "cell_type": "markdown",
      "metadata": {
        "id": "0aCUpPxjTPfA"
      },
      "source": [
        "**2** Girdisi string olan ifadenin içerisindeki harflerin türkçe alfabesindeki yerlerini bulup, hepsinin değerlerini toplayıp sonuç çiftse True tekse False yazdıran bir fonksiyon yazınız."
      ]
    },
    {
      "cell_type": "code",
      "metadata": {
        "id": "HyfvTNRwTP-i",
        "colab": {
          "base_uri": "https://localhost:8080/"
        },
        "outputId": "eee44137-0d69-47ce-c1e5-e40ae38526a0"
      },
      "source": [
        "def kelime_çift_mi(cümle):\n",
        "  buyuk=\"ABCÇDEFGĞHIİJKLMNOÖPRSŞTUÜVYZ\"\n",
        "  kucuk=\"abcçdefgğhıijklmnoöprsştuüvyz\"\n",
        "  toplam=0\n",
        "  for i in cümle:\n",
        "    if i in buyuk:\n",
        "      toplam+=buyuk.index(i)+1\n",
        "    elif i in kucuk:\n",
        "      toplam+=kucuk.index(i)+1\n",
        "    \n",
        "  if toplam % 2 ==0:\n",
        "    return True\n",
        "  else:\n",
        "    return False\n",
        "\n",
        "print(kelime_çift_mi(\"Bilgisayar\"))"
      ],
      "execution_count": 65,
      "outputs": [
        {
          "output_type": "stream",
          "text": [
            "True\n"
          ],
          "name": "stdout"
        }
      ]
    },
    {
      "cell_type": "markdown",
      "metadata": {
        "id": "wxo-fiQrTk5w"
      },
      "source": [
        "**3** Sudoku her 3-3 lük karede 1'den 9'a kadar olan rakamların birer kez yer alması gerektiği temeline dayanan bir zeka oyunudur. Su doku olup olmadığını inceleyen, sudoku ise True değil ise False değeri veren bir fonksiyon yazalım."
      ]
    },
    {
      "cell_type": "code",
      "metadata": {
        "id": "37fPq8YRTlcC",
        "colab": {
          "base_uri": "https://localhost:8080/"
        },
        "outputId": "bbed7d45-7559-45dc-f3bc-685a67656a53"
      },
      "source": [
        "def sudoku_mu(sudoku):\n",
        "  toplam=0\n",
        "  yen_sudoku=[]\n",
        "  for i in sudoku:\n",
        "    for k in i:\n",
        "      yen_sudoku.append(k)\n",
        "  for i in yen_sudoku:\n",
        "    if len(set(yen_sudoku))!=9 or  (i<1 or i>9):\n",
        "      return False\n",
        "    elif sum(yen_sudoku)==45:\n",
        "      return True\n",
        "    else:\n",
        "      return False\n",
        "        \n",
        "print(sudoku_mu([[7, 6, 2], [7, 6, 2], [7, 6, 2]]))\n",
        "print(sudoku_mu([[1, 3, 2], [8, 9, 7], [3, 6, 4]])) \n",
        "print(sudoku_mu([[1, 2, 3], [4, 5, 6], [7, 8, 9]]))"
      ],
      "execution_count": 64,
      "outputs": [
        {
          "output_type": "stream",
          "text": [
            "False\n",
            "False\n",
            "True\n"
          ],
          "name": "stdout"
        }
      ]
    },
    {
      "cell_type": "markdown",
      "metadata": {
        "id": "NZuIN_n_Tz9_"
      },
      "source": [
        "**4** Satrançta vezirler hangi durumda birbirini yer. Vezir yatay,dikey ve çapraz olarak hareket edebiliyor."
      ]
    },
    {
      "cell_type": "code",
      "metadata": {
        "id": "Y3ZINYs1T0oZ"
      },
      "source": [
        "def vezir(oyuncular):\n",
        "  p1= oyuncular[0]\n",
        "  p2=oyuncular[1]\n",
        "  if p1[0]==p2[0] or p1[1]==p2[1]:\n",
        "    return True\n",
        "  tahtax = \"ABCDEFGH\"\n",
        "  tahtay = \"12345678\"\n",
        "  mesafex = abs(tahtax.index(p1[0]) - tahtax.index(p2[0]))\n",
        "  mesafey = abs(tahtay.index(p1[1]) - tahtay.index(p2[1]))\n",
        "  if mesafex == mesafey:\n",
        "    return True\n",
        "  else:\n",
        "    return False"
      ],
      "execution_count": 41,
      "outputs": []
    },
    {
      "cell_type": "markdown",
      "metadata": {
        "id": "waBgACgfUGyj"
      },
      "source": [
        "**5** Şubat ayının 29 çektiği yıllar artık yıllardır. Girilen input değerinin artık yıl olup olmadığını bulalım"
      ]
    },
    {
      "cell_type": "code",
      "metadata": {
        "id": "3ll0SlTBUHQp",
        "colab": {
          "base_uri": "https://localhost:8080/"
        },
        "outputId": "2df93566-721f-4371-b0f0-3d23b30335f2"
      },
      "source": [
        "while True:\n",
        "  leap_year = input(\"Lütfen dört haneli bir yıl giriniz. \")\n",
        "  try:\n",
        "    ileap_year = int(leap_year)\n",
        "    break\n",
        "  except:\n",
        "    print(\"Geçersiz veri! Lütfen rakamlarla dört haneli bir yıl giriniz.\")\n",
        "    continue\n",
        "if ileap_year %400==0:\n",
        "  print(f\"{ileap_year} artık yıldır.\")\n",
        "elif ileap_year %100 ==0:\n",
        "  print(f\"{ileap_year} artık yıl değildir.\")\n",
        "elif ileap_year % 4 ==0:\n",
        "  print(f\"{ileap_year} artık yıldır.\")\n",
        "else:\n",
        "  print(f\"{ileap_year} artık yıl değildir.\")\n",
        "      "
      ],
      "execution_count": 40,
      "outputs": [
        {
          "output_type": "stream",
          "text": [
            "Lütfen dört haneli bir yıl giriniz. 2021\n",
            "2021 artık yıl değildir.\n"
          ],
          "name": "stdout"
        }
      ]
    },
    {
      "cell_type": "markdown",
      "metadata": {
        "id": "w9pC0yrhUWxd"
      },
      "source": [
        "**6** Write a program that repeatedly prompts a user for integer numbers until the user enters 'done'. Once 'done' is entered, print out the largest and smallest of the numbers. If the user enters anything other than a valid number catch it with a try/except and put out an appropriate message and ignore the number. Enter 7, 2, bob, 10, and 4 and match the output below."
      ]
    },
    {
      "cell_type": "code",
      "metadata": {
        "id": "iec8KrcgUXQ5",
        "colab": {
          "base_uri": "https://localhost:8080/"
        },
        "outputId": "18fdef7d-5b4c-43d8-bf6a-27f719877aec"
      },
      "source": [
        "liste=[]\n",
        "while True:\n",
        "    num = input(\"Enter a number: \")\n",
        "    if num == \"done\" : \n",
        "        break\n",
        "    try:\n",
        "      inum = int(num)\n",
        "    except:\n",
        "      print(\"Invalid input\")\n",
        "      continue\n",
        "    if int(num)==inum:\n",
        "      liste.append(inum)\n",
        "     \n",
        "print(\"Maximum is\", max(liste))\n",
        "print(\"Minimum is\", min(liste))"
      ],
      "execution_count": 37,
      "outputs": [
        {
          "output_type": "stream",
          "text": [
            "Enter a number: 5\n",
            "Enter a number: 7\n",
            "Enter a number: 8\n",
            "Enter a number: 9\n",
            "Enter a number: 12\n",
            "Enter a number: 15\n",
            "Enter a number: done\n",
            "Maximum is 15\n",
            "Minimum is 5\n"
          ],
          "name": "stdout"
        }
      ]
    },
    {
      "cell_type": "markdown",
      "metadata": {
        "id": "LL5SVqTKVgi7"
      },
      "source": [
        "**7** Write a program to prompt the user for hours and rate per hour using input to compute gross pay. Pay should be the normal rate for hours up to 40 and time-and-a-half for the hourly rate for all hours worked above 40 hours. Put the logic to do the computation of pay in a function called computepay() and use the function to do the computation. The function should return a value. Use 45 hours and a rate of 10.50 per hour to test the program (the pay should be 498.75). You should use input to read a string and float() to convert the string to a number. Do not worry about error checking the user input unless you want to - you can assume the user types numbers properly. Do not name your variable sum or use the sum() function"
      ]
    },
    {
      "cell_type": "code",
      "metadata": {
        "id": "eZpnMUhuVf0M",
        "colab": {
          "base_uri": "https://localhost:8080/"
        },
        "outputId": "61415d5a-440d-47f0-d9ab-2b84877c0c2d"
      },
      "source": [
        "h = float(input(\"Enter Hours:\"))\n",
        "r = float(input(\"Enter rate: \"))\n",
        "\n",
        "def computepay(h,r):\n",
        "    if h>40:\n",
        "        p=40*r+(h-40)*r*1.5\n",
        "    else:\n",
        "        p=h*r\n",
        "    return p\n",
        "\n",
        "print(\"Pay\",computepay(h,r))"
      ],
      "execution_count": 36,
      "outputs": [
        {
          "output_type": "stream",
          "text": [
            "Enter Hours:45\n",
            "Enter rate: 1.5\n",
            "Pay 71.25\n"
          ],
          "name": "stdout"
        }
      ]
    },
    {
      "cell_type": "markdown",
      "metadata": {
        "id": "ZTEs78htVwiE"
      },
      "source": [
        "**8** Write a program to prompt for a score between 0.0 and 1.0. If the score is out of range, print an error. If the score is between 0.0 and 1.0, print a grade using the following table: Score Grade\n",
        "\n",
        "0.9 A\n",
        "\n",
        "0.8 B\n",
        "\n",
        "0.7 C\n",
        "\n",
        "0.6 D\n",
        "\n",
        "0.6 F\n",
        "\n",
        "If the user enters a value out of range, print a suitable error message and exit. For the test, enter a score of 0.85"
      ]
    },
    {
      "cell_type": "code",
      "metadata": {
        "id": "Jc4luHy7Vw_X",
        "colab": {
          "base_uri": "https://localhost:8080/"
        },
        "outputId": "a28c6127-1997-46ae-ebae-f18a42b4a275"
      },
      "source": [
        "score = input(\"Enter Score: \")\n",
        "s = float(score)\n",
        "if s>=0.0 and s<=1.0:\n",
        "\tif s>=0.9:\n",
        "\t\tprint(\"A\")\n",
        "\telif s>=0.8:\n",
        "\t\tprint(\"B\")\n",
        "\telif s>=0.7:\n",
        "\t\tprint(\"C\")\n",
        "\telif s>=0.6:\n",
        "\t\tprint(\"D\")\n",
        "\telif s<0.6:\n",
        "\t\tprint(\"F\")\n",
        "else:\n",
        "    print(\"Error\")"
      ],
      "execution_count": 35,
      "outputs": [
        {
          "output_type": "stream",
          "text": [
            "Enter Score: 0.7\n",
            "C\n"
          ],
          "name": "stdout"
        }
      ]
    },
    {
      "cell_type": "markdown",
      "metadata": {
        "id": "jVtCSpJhWBzj"
      },
      "source": [
        "**9** Yazi olarak girilen string ifadenin içindeki harfler tamamen büyük veya tamamen küçük ise True, küçük ve büyük harlerden oluşmuş ise False veren bir fonksiyon yazalım. "
      ]
    },
    {
      "cell_type": "code",
      "metadata": {
        "id": "L4m48ymmWCUg",
        "colab": {
          "base_uri": "https://localhost:8080/"
        },
        "outputId": "1b4cf898-be87-4a5e-b513-6d2efc548bc4"
      },
      "source": [
        "def büyük_kücük(yazi):\n",
        "  if yazi.upper()==yazi or yazi.lower()==yazi:\n",
        "    return True\n",
        "  else:\n",
        "    return False\n",
        "\n",
        " \n",
        "print(büyük_kücük(\"Merhaba\"))\n",
        "print(büyük_kücük(\"merhaba\"))\n",
        "print(büyük_kücük(\"merHaba\"))\n",
        "print(büyük_kücük(\"MERHABA\"))\n"
      ],
      "execution_count": 34,
      "outputs": [
        {
          "output_type": "stream",
          "text": [
            "False\n",
            "True\n",
            "False\n",
            "True\n"
          ],
          "name": "stdout"
        }
      ]
    },
    {
      "cell_type": "markdown",
      "metadata": {
        "id": "CqOlm2bMWVr2"
      },
      "source": [
        "**10** Sayıyı kalansız bölen sayıları bulan bir fonksiyon yazalım"
      ]
    },
    {
      "cell_type": "code",
      "metadata": {
        "id": "HrCCafKPWWIL",
        "colab": {
          "base_uri": "https://localhost:8080/"
        },
        "outputId": "f23b4013-9797-419e-90d7-0cc54469c7b3"
      },
      "source": [
        "def carpanlarina_ayir(sayi):\n",
        "  carpanlar=[]\n",
        "  for i in range(1,sayi+1):\n",
        "    if sayi % i ==0:\n",
        "      carpanlar.append(i)\n",
        "      \n",
        "  return carpanlar\n",
        "\n",
        "\n",
        "print(carpanlarina_ayir(250))"
      ],
      "execution_count": 33,
      "outputs": [
        {
          "output_type": "stream",
          "text": [
            "[1, 2, 5, 10, 25, 50, 125, 250]\n"
          ],
          "name": "stdout"
        }
      ]
    },
    {
      "cell_type": "markdown",
      "metadata": {
        "id": "1timus0iWxmw"
      },
      "source": [
        "**11** Sayının faktöriyelini hesaplayan fonksiyon yazalım."
      ]
    },
    {
      "cell_type": "code",
      "metadata": {
        "id": "GHgT6M-uWx_A",
        "colab": {
          "base_uri": "https://localhost:8080/"
        },
        "outputId": "680fe5da-fff5-4e00-ff74-9e629c96f40a"
      },
      "source": [
        "def factorial(sayi):\n",
        "  sonuc=1\n",
        "  i=1 \n",
        "  while i<sayi+1:\n",
        "    sonuc*=i\n",
        "    i+=1\n",
        "  return sonuc\n",
        "\n",
        "print(factorial(8))"
      ],
      "execution_count": 32,
      "outputs": [
        {
          "output_type": "stream",
          "text": [
            "40320\n"
          ],
          "name": "stdout"
        }
      ]
    },
    {
      "cell_type": "markdown",
      "metadata": {
        "id": "O6CNNQ7VXcps"
      },
      "source": [
        "**12** Task : Find out the most frequent number and its frequency.\n",
        "\n",
        "Write a program that;\n",
        "\n",
        "Finds out the most frequent number in the given list.\n",
        "Calculates its frequency.\n",
        "Prints out the result such as :\n",
        "\n",
        "Example\n",
        "\n",
        "Given list\n",
        "\n",
        "numbers = [1, 3, 7, 4, 3, 0, 3, 6, 3]\n",
        "\n",
        "Output\n",
        "\n",
        "The most frequent number is 3 and it was 4 times repeated"
      ]
    },
    {
      "cell_type": "code",
      "metadata": {
        "id": "X_i6ONR5Xc_9",
        "colab": {
          "base_uri": "https://localhost:8080/"
        },
        "outputId": "8bc6149c-c6ee-404a-8e2c-ac80578ee7f0"
      },
      "source": [
        "numbers=[1, 3, 7, 4, 3, 0, 3, 6, 3]\n",
        "a=max(numbers, key = numbers.count)\n",
        "b= numbers.count(a)\n",
        "print(f\"The most frequent number is {a} and it was {b} times repeated\")"
      ],
      "execution_count": 31,
      "outputs": [
        {
          "output_type": "stream",
          "text": [
            "The most frequent number is 3 and it was 4 times repeated\n"
          ],
          "name": "stdout"
        }
      ]
    },
    {
      "cell_type": "code",
      "metadata": {
        "id": "fgmJ5UEvX5OS",
        "colab": {
          "base_uri": "https://localhost:8080/"
        },
        "outputId": "e996ac5b-ffea-4d7c-af4c-389663557576"
      },
      "source": [
        "numbers=[1, 3, 7, 4, 3, 0, 3, 6, 3]\n",
        "a=sorted(numbers, key=numbers.count, reverse=True)\n",
        "b=numbers.count(a[0])\n",
        "print(f\"The most frequent number is {a[0]} and it was {b} times repeated\")"
      ],
      "execution_count": 30,
      "outputs": [
        {
          "output_type": "stream",
          "text": [
            "The most frequent number is 3 and it was 4 times repeated\n"
          ],
          "name": "stdout"
        }
      ]
    },
    {
      "cell_type": "code",
      "metadata": {
        "id": "PX9IRH63YP3e",
        "colab": {
          "base_uri": "https://localhost:8080/"
        },
        "outputId": "8d28e2f0-898e-4928-f000-d1fd653e7ee0"
      },
      "source": [
        "numbers=[1, 3, 7, 4, 3, 0, 3, 6, 3]\n",
        "kac_kere=[]\n",
        "for i in numbers:\n",
        "  kac_kere.append(numbers.count(i))\n",
        "if numbers.count(i)==max(kac_kere):\n",
        "  print(f\"The most frequent number is {i} and it was {max(kac_kere)} times repeated\")"
      ],
      "execution_count": 29,
      "outputs": [
        {
          "output_type": "stream",
          "text": [
            "The most frequent number is 3 and it was 4 times repeated\n"
          ],
          "name": "stdout"
        }
      ]
    },
    {
      "cell_type": "markdown",
      "metadata": {
        "id": "PJFgQX1MYRtz"
      },
      "source": [
        "**13** 12. soruda eğer listeyi kullanıcıdan alırsak"
      ]
    },
    {
      "cell_type": "code",
      "metadata": {
        "id": "cRg11CI8Ybol",
        "colab": {
          "base_uri": "https://localhost:8080/"
        },
        "outputId": "56adbc69-1df1-43b2-8e3a-c1f20fb63090"
      },
      "source": [
        "numbers=list(map(int,input(\"Lütfen sayıları boşluk bırakarak giriniz: \").split()))\n",
        "kac_kere=[]\n",
        "for i in numbers:\n",
        "  kac_kere.append(numbers.count(i))\n",
        "for i in numbers:\n",
        "  if numbers.count(i)==max(kac_kere):\n",
        "    a=(f\"The most frequent number is {i} and it was {max(kac_kere)} times repeated\")\n",
        "print(a)"
      ],
      "execution_count": 28,
      "outputs": [
        {
          "output_type": "stream",
          "text": [
            "Lütfen sayıları boşluk bırakarak giriniz: 1 3 7 4 3 0 3 6 3\n",
            "The most frequent number is 3 and it was 4 times repeated\n"
          ],
          "name": "stdout"
        }
      ]
    },
    {
      "cell_type": "markdown",
      "metadata": {
        "id": "DxEsmt8SYg1p"
      },
      "source": [
        "**14** Task - 1 : You work for a manufacturer as a programmer and have been asked to calculate the total profit made on the sales of a product. You are given a dictionary (sales) containing the cost price per unit (in dollars), sell price per unit (in dollars), and the beginning inventory. Write a program to return the total profit made, rounded to the nearest dollar. Assume all of the inventory has been sold. The name and the keys of the dictionary are constant, so use them as they are. The example of the values (sell-cost value, inventory) and total profit :\n",
        "\n",
        "sales = { \"cost_value\": 31.87, \"sell_value\": 45.00, \"inventory\": 1000 }"
      ]
    },
    {
      "cell_type": "code",
      "metadata": {
        "id": "VQxdBcHNYhRH",
        "colab": {
          "base_uri": "https://localhost:8080/"
        },
        "outputId": "7d425ef5-092b-4f38-8a12-c29633bc9f6a"
      },
      "source": [
        "sales = {\n",
        "  \"cost_value\": 31.87,\n",
        "  \"sell_value\": 45.00,\n",
        "  \"inventory\": 1000\n",
        "}  \n",
        "total_profit=round((sales[\"sell_value\"]-sales[\"cost_value\"])*sales[\"inventory\"])\n",
        "print(total_profit)"
      ],
      "execution_count": 20,
      "outputs": [
        {
          "output_type": "stream",
          "text": [
            "13130\n"
          ],
          "name": "stdout"
        }
      ]
    },
    {
      "cell_type": "markdown",
      "metadata": {
        "id": "-XDiD5dlY3gq"
      },
      "source": [
        "**15** İsmi \"A\" ile başlayan isimleri bulalım ve sözlükten silip, sözlüğün son halini yazdıralım."
      ]
    },
    {
      "cell_type": "code",
      "metadata": {
        "id": "jNrjjfmGY39s",
        "colab": {
          "base_uri": "https://localhost:8080/"
        },
        "outputId": "ee21df63-7d8a-4ed0-db1e-2d0f1b0cbe55"
      },
      "source": [
        "family={\"name1\":\"Raife\",\n",
        "        \"name2\":\"Arif\",\n",
        "        \"name3\":\"Nihal\",\n",
        "        \"name4\":\"Mehmet\",\n",
        "        \"name4\":\"Ayşe\"}\n",
        "\n",
        "for i in list(family.values()):\n",
        "  if i[0]==\"A\":\n",
        "    print(i)\n",
        "    b=list(family.keys())[list(family.values()).index(i)]\n",
        "    del family[b]\n",
        "    print(family)"
      ],
      "execution_count": 19,
      "outputs": [
        {
          "output_type": "stream",
          "text": [
            "Arif\n",
            "{'name1': 'Raife', 'name3': 'Nihal', 'name4': 'Ayşe'}\n",
            "Ayşe\n",
            "{'name1': 'Raife', 'name3': 'Nihal'}\n"
          ],
          "name": "stdout"
        }
      ]
    },
    {
      "cell_type": "markdown",
      "metadata": {
        "id": "HisSx1LtZKNB"
      },
      "source": [
        "**16** Sayı ve string paramestresi alan, sayıyı geriye doğru aralarında * olacak şekilde yazdıran, sonuna verilen stringi büyük harflerle ekleyen ve en sona ! işareti koyan bir fonksiyon yazalım"
      ]
    },
    {
      "cell_type": "code",
      "metadata": {
        "id": "6WtPiklyZcuk"
      },
      "source": [
        "ÖRNEK\n",
        "geri_say(3,\"go\")--> \"3*2*1*GO!\""
      ],
      "execution_count": null,
      "outputs": []
    },
    {
      "cell_type": "code",
      "metadata": {
        "id": "wpeieaJOZKru",
        "colab": {
          "base_uri": "https://localhost:8080/"
        },
        "outputId": "a028e650-02dc-4160-e15e-5d498eb50019"
      },
      "source": [
        "def geri_say(n, yazi):\n",
        "  sonuc=\"\"\n",
        "  for i in range(n,0,-1):\n",
        "    sonuc+=str(i)+\"*\"\n",
        "  sonuc+=str(yazi.upper())+\"!\"\n",
        "  return sonuc\n",
        "    \n",
        "print(geri_say(10, \"iyi ki doğdun\"))"
      ],
      "execution_count": 18,
      "outputs": [
        {
          "output_type": "stream",
          "text": [
            "10*9*8*7*6*5*4*3*2*1*IYI KI DOĞDUN!\n"
          ],
          "name": "stdout"
        }
      ]
    },
    {
      "cell_type": "markdown",
      "metadata": {
        "id": "gihyofpVZf-L"
      },
      "source": [
        "**17** sayı ve üs olarak iki parametre alan ve hesaplamanın sonucunu veren bir fonksiyon yazalım"
      ]
    },
    {
      "cell_type": "code",
      "metadata": {
        "id": "cU3vHqAQZgmZ",
        "colab": {
          "base_uri": "https://localhost:8080/"
        },
        "outputId": "de1331d1-1400-4f00-cde8-34dd1bc8f152"
      },
      "source": [
        "def üs_hesapla(sayi,üs):\n",
        "  return sayi**üs\n",
        "\n",
        "print(üs_hesapla(7,3))"
      ],
      "execution_count": 17,
      "outputs": [
        {
          "output_type": "stream",
          "text": [
            "343\n"
          ],
          "name": "stdout"
        }
      ]
    },
    {
      "cell_type": "markdown",
      "metadata": {
        "id": "6i-tHuvdZyZW"
      },
      "source": [
        "Sırasıyla tavuk, inek ve koyunların sayısı verildiğinde toplam bacak sayısını hesaplayan fonksiyon yazalım."
      ]
    },
    {
      "cell_type": "code",
      "metadata": {
        "id": "aPU5zxHVZ8cK",
        "colab": {
          "base_uri": "https://localhost:8080/"
        },
        "outputId": "0e3d6f34-2efb-4ef5-a4e5-16cbdc1b98cc"
      },
      "source": [
        "def bacak_say(t,i,k):\n",
        "  return (t*2 + i*4 + k*4)\n",
        "print(bacak_say(3,4,2))"
      ],
      "execution_count": 16,
      "outputs": [
        {
          "output_type": "stream",
          "text": [
            "30\n"
          ],
          "name": "stdout"
        }
      ]
    },
    {
      "cell_type": "markdown",
      "metadata": {
        "id": "uHkXIFWdaAOs"
      },
      "source": [
        "**18** Arif ve Raife listede yanyana duruyorlasa True döndüren durmuyorlarsa False döndüren bir fonksiyon yazalım."
      ]
    },
    {
      "cell_type": "code",
      "metadata": {
        "id": "y7UAotxnaApL",
        "colab": {
          "base_uri": "https://localhost:8080/"
        },
        "outputId": "45d51bf9-c69b-4636-ee0e-f3eb656f89b4"
      },
      "source": [
        "def yan_yana_mı(liste):\n",
        "  for i in liste:\n",
        "    if liste.index(\"Arif\")+1==liste.index(\"Raife\") or liste.index(\"Arif\")==liste.index(\"Raife\")+1:\n",
        "      return True\n",
        "    else:\n",
        "      return False\n",
        "  \n",
        "print(yan_yana_mı([\"Arif\",\"Raife\",\"Nihal\"]))\n",
        "print(yan_yana_mı([\"Arif\",\"Nihal\",\"Raife\"]))"
      ],
      "execution_count": 15,
      "outputs": [
        {
          "output_type": "stream",
          "text": [
            "True\n",
            "False\n"
          ],
          "name": "stdout"
        }
      ]
    },
    {
      "cell_type": "markdown",
      "metadata": {
        "id": "x0Bovv1UaOFk"
      },
      "source": [
        "**19** Cümlenin içindeki sesli harfleri kaldıran bir fonksiyon yazalım."
      ]
    },
    {
      "cell_type": "code",
      "metadata": {
        "id": "wXe3wX0GaOyc",
        "colab": {
          "base_uri": "https://localhost:8080/"
        },
        "outputId": "5fe4c5ae-f7a1-41a7-9418-1f2ec9312da2"
      },
      "source": [
        "def sessiz_yap(cümle):\n",
        "  sesli=\"aeıioöuüAEIİOÖUÜ\"\n",
        "  yeni=\"\"\n",
        "  for i in cümle:\n",
        "    if i not in sesli:\n",
        "      yeni+=i\n",
        "  return yeni\n",
        "print(sessiz_yap(\"Hayat beni neden yoruyosun?:)\"))"
      ],
      "execution_count": 14,
      "outputs": [
        {
          "output_type": "stream",
          "text": [
            "Hyt bn ndn yrysn?:)\n"
          ],
          "name": "stdout"
        }
      ]
    },
    {
      "cell_type": "markdown",
      "metadata": {
        "id": "JJp_SSi1acVv"
      },
      "source": [
        "**20** Tarihi yüzyıla çeviren bir fonksiyon yazalım."
      ]
    },
    {
      "cell_type": "code",
      "metadata": {
        "id": "xe1ASN4pacuv",
        "colab": {
          "base_uri": "https://localhost:8080/"
        },
        "outputId": "adf7a27c-49f7-44f8-ad9f-5cf6b755f316"
      },
      "source": [
        "def yüzyıl_yap(yıl):\n",
        "  return f\"{(yıl//100)+1}. yüzyıl\"\n",
        "print(yüzyıl_yap(1738))"
      ],
      "execution_count": 13,
      "outputs": [
        {
          "output_type": "stream",
          "text": [
            "18. yüzyıl\n"
          ],
          "name": "stdout"
        }
      ]
    },
    {
      "cell_type": "markdown",
      "metadata": {
        "id": "m0JXJqAfar1_"
      },
      "source": [
        "Listedeki her elemanı kendi indexi ile çarpıp toplamı veren bir fonksiyon yazalım."
      ]
    },
    {
      "cell_type": "code",
      "metadata": {
        "id": "ZCrFiZY4arUF",
        "colab": {
          "base_uri": "https://localhost:8080/"
        },
        "outputId": "f9b93830-7f40-4b46-8a07-f58ea49d25d5"
      },
      "source": [
        "def carpip_topla(liste):\n",
        "  toplam=0\n",
        "  for i in liste:\n",
        "    toplam+=i*liste.index(i)\n",
        "  return toplam\n",
        "\n",
        "print(carpip_topla([1,2,3,4,5,6,7,8,9,10]))"
      ],
      "execution_count": 12,
      "outputs": [
        {
          "output_type": "stream",
          "text": [
            "330\n"
          ],
          "name": "stdout"
        }
      ]
    },
    {
      "cell_type": "markdown",
      "metadata": {
        "id": "5udsgQFMa1HD"
      },
      "source": [
        "**21** Cümledeki sayı ve harflerin sayısını bulan bir fonksiyon yazalım"
      ]
    },
    {
      "cell_type": "code",
      "metadata": {
        "id": "9xnXVQjSa9xz",
        "colab": {
          "base_uri": "https://localhost:8080/"
        },
        "outputId": "870899b8-6e22-4e5e-edea-09bb8c96d038"
      },
      "source": [
        "def harf_sayi_sayisi(cümle):\n",
        "  sayilar=\"0123456789\"\n",
        "  h=0\n",
        "  s=0\n",
        "  for i in cümle:\n",
        "    if i.isalpha()==True:\n",
        "      h+=1\n",
        "    elif i in sayilar:\n",
        "      s+=1\n",
        "  return f\"Harfler: {h}, Sayılar: {s}\"\n",
        "\n",
        "print(harf_sayi_sayisi(\"10'a kadar saysam ve sonrasında hayat bayram olsa.\"))"
      ],
      "execution_count": 11,
      "outputs": [
        {
          "output_type": "stream",
          "text": [
            "Harfler: 39, Sayılar: 2\n"
          ],
          "name": "stdout"
        }
      ]
    },
    {
      "cell_type": "markdown",
      "metadata": {
        "id": "n44CGHjVbEiQ"
      },
      "source": [
        "Yılı da verilen ayın gün sayısını hesaplayan bir fonksiyon yazalım."
      ]
    },
    {
      "cell_type": "code",
      "metadata": {
        "id": "gxbADGP8bE7j",
        "colab": {
          "base_uri": "https://localhost:8080/"
        },
        "outputId": "cdb62766-d881-4b9b-aa0e-81e3368cb89f"
      },
      "source": [
        "def kac_gün(ay,yıl):\n",
        "  if ay==2:\n",
        "    if yıl%400==0:\n",
        "      return 29\n",
        "    elif yıl%100==0:\n",
        "      return 28\n",
        "    elif yıl%4==0:\n",
        "      return 29\n",
        "    else:\n",
        "      return 28\n",
        "  elif ay==1 or ay==3 or ay==5 or ay==7 or ay==8 or ay==10 or ay==12:\n",
        "    return 31\n",
        "  else:\n",
        "    return 30\n",
        "\n",
        "print(kac_gün( 4, 654))\n",
        "print(kac_gün( 2, 1737))\n",
        "print(kac_gün( 1, 2021))"
      ],
      "execution_count": 10,
      "outputs": [
        {
          "output_type": "stream",
          "text": [
            "30\n",
            "28\n",
            "31\n"
          ],
          "name": "stdout"
        }
      ]
    },
    {
      "cell_type": "markdown",
      "metadata": {
        "id": "HNQy5-clbTHi"
      },
      "source": [
        "**22** Sayıların içindeki en büyük ve en küçük sayıyı veren fonksiyon yazalım. \n",
        "deger -->\"3 4 7 -5 7-9\" gibi olmalı"
      ]
    },
    {
      "cell_type": "code",
      "metadata": {
        "id": "t0bskjOxbeNP",
        "colab": {
          "base_uri": "https://localhost:8080/"
        },
        "outputId": "73ca3d5c-1435-40b3-bf6b-4642f92ef920"
      },
      "source": [
        "def büyük_kücük(deger):\n",
        "  liste=deger.split()\n",
        "  for i in liste:\n",
        "    liste[liste.index(i)]=int(i)\n",
        "  return f\"{max(liste)} {min(liste)}\"\n",
        "\n",
        "print(büyük_kücük(\"3 2 4 6 -1 12\"))\n"
      ],
      "execution_count": 9,
      "outputs": [
        {
          "output_type": "stream",
          "text": [
            "12 -1\n"
          ],
          "name": "stdout"
        }
      ]
    },
    {
      "cell_type": "markdown",
      "metadata": {
        "id": "gSjK8uW7biY_"
      },
      "source": [
        "**23** Harfler ve boşluklardan oluşan stringin içindeki kelime nin uzunluğu beş veya dah fazla ise o kelimeyi ters çeviren bir fonksiyon yazalım."
      ]
    },
    {
      "cell_type": "code",
      "metadata": {
        "id": "3spWOLAGbmON",
        "colab": {
          "base_uri": "https://localhost:8080/"
        },
        "outputId": "ed40992e-59b4-46f7-9ba6-64516020e016"
      },
      "source": [
        "def ters_döndür(yazi):\n",
        "  liste=yazi.split()\n",
        "  yeni=\"\"\n",
        "  for i in liste:\n",
        "    if len(i)>=5:\n",
        "      yeni += i[::-1]+\" \"\n",
        "    else:\n",
        "      yeni+=i+\" \"\n",
        "  return yeni\n",
        "\n",
        "print(ters_döndür(\"Ah bir data scientist olabilsem:)\"))"
      ],
      "execution_count": 8,
      "outputs": [
        {
          "output_type": "stream",
          "text": [
            "Ah bir data tsitneics ):meslibalo \n"
          ],
          "name": "stdout"
        }
      ]
    },
    {
      "cell_type": "markdown",
      "metadata": {
        "id": "1MoCoP-xbsU1"
      },
      "source": [
        "**24** Yazının uzunluğu tek ise orta karakteri çift ise orta iki karakteri veren fonksiyon yazalım"
      ]
    },
    {
      "cell_type": "code",
      "metadata": {
        "id": "pSMd0XrGb1pO",
        "colab": {
          "base_uri": "https://localhost:8080/"
        },
        "outputId": "c374eced-15a6-402b-f896-2dee231ea699"
      },
      "source": [
        "def orta_karakter(yazi):\n",
        "  if len(yazi)%2==0:\n",
        "    return yazi[len(yazi)//2 -1 :len(yazi)//2 +1]\n",
        "  else:\n",
        "    return yazi[len(yazi)//2]\n",
        "\n",
        "print(orta_karakter(\"aşk\"))\n",
        "print(orta_karakter(\"sayı\"))\n",
        "print(orta_karakter(\"sabrın_sonu_selamet_mi?\"))"
      ],
      "execution_count": 7,
      "outputs": [
        {
          "output_type": "stream",
          "text": [
            "ş\n",
            "ay\n",
            "_\n"
          ],
          "name": "stdout"
        }
      ]
    },
    {
      "cell_type": "markdown",
      "metadata": {
        "id": "cQXMDJMqb5Kf"
      },
      "source": [
        "a sayının hangi üssü b sonucunu verir? sorusunu cevaplayan fonksiyon yazalım "
      ]
    },
    {
      "cell_type": "code",
      "metadata": {
        "id": "9kchNyHab5n6",
        "colab": {
          "base_uri": "https://localhost:8080/"
        },
        "outputId": "efd15196-7da8-4ae4-821d-03fee7551048"
      },
      "source": [
        "def üssü_bul(sayi,sonuc):\n",
        "  üs=0\n",
        "  while sonuc>=sayi:\n",
        "    sonuc//=sayi\n",
        "    üs+=1\n",
        "  return üs\n",
        "print(üssü_bul(2,32))\n",
        "print(üssü_bul(3,81))\n",
        "print(üssü_bul(5,125))"
      ],
      "execution_count": 6,
      "outputs": [
        {
          "output_type": "stream",
          "text": [
            "5\n",
            "4\n",
            "3\n"
          ],
          "name": "stdout"
        }
      ]
    },
    {
      "cell_type": "markdown",
      "metadata": {
        "id": "iM5swA_EcQMQ"
      },
      "source": [
        "**25** String olarak verilen değeri sayıya dönüştüren fonksiyon yazalım. \n",
        "\n",
        ".k bini temsil eder.\n",
        "\n",
        "sayi(\"3.5k 7.4k\") --> [3500, 13500]"
      ]
    },
    {
      "cell_type": "code",
      "metadata": {
        "id": "COVvUup4ccWv",
        "colab": {
          "base_uri": "https://localhost:8080/"
        },
        "outputId": "312e63f5-98eb-400a-ce7f-3aab2c64e32a"
      },
      "source": [
        "def sayi(deger):\n",
        "  liste=deger.split()\n",
        "  liste2=[]\n",
        "  for i in liste:\n",
        "    if \"k\" in i:\n",
        "      i=i.replace(\"k\",\"\")\n",
        "      liste2.append(int(float(i)*1000))\n",
        "    else:\n",
        "      liste2.append(i)\n",
        "  return liste2\n",
        "print(sayi(\"5.6k 8.3895k\"))"
      ],
      "execution_count": 5,
      "outputs": [
        {
          "output_type": "stream",
          "text": [
            "[5600, 8389]\n"
          ],
          "name": "stdout"
        }
      ]
    },
    {
      "cell_type": "markdown",
      "metadata": {
        "id": "6Hf2h8Tkch3r"
      },
      "source": [
        "n. fibonacci sayısını hesaplayan bir fonksiyon yazalım."
      ]
    },
    {
      "cell_type": "code",
      "metadata": {
        "id": "TfzWuwnnci_y",
        "colab": {
          "base_uri": "https://localhost:8080/"
        },
        "outputId": "8634507b-bad4-428d-a864-9b9820dcc8b5"
      },
      "source": [
        "def fib(n):\n",
        "  sonuc=0\n",
        "  if n==0:\n",
        "    sonuc=0\n",
        "  elif n==1:\n",
        "    sonuc=1\n",
        "  elif n==2:\n",
        "    sonuc=1\n",
        "  elif n>2:\n",
        "    sonuc=fib(n-2)+fib(n-1)\n",
        "  return sonuc\n",
        "\n",
        "print(fib(8))\n",
        "print(fib(9))\n",
        "print(fib(10))"
      ],
      "execution_count": 4,
      "outputs": [
        {
          "output_type": "stream",
          "text": [
            "21\n",
            "34\n",
            "55\n"
          ],
          "name": "stdout"
        }
      ]
    },
    {
      "cell_type": "markdown",
      "metadata": {
        "id": "8ISgmwMvkSA8"
      },
      "source": [
        "**26**Bir stringde ikinci kez zip geçen indexi, eğer en az iki kere geçmiyorsa -1 döndüren fonksiyon yazalım."
      ]
    },
    {
      "cell_type": "code",
      "metadata": {
        "colab": {
          "base_uri": "https://localhost:8080/"
        },
        "id": "_Oc6hgdrkljr",
        "outputId": "8859a525-3540-4be5-b7aa-9ed8ec49e7ff"
      },
      "source": [
        "def zip(yazi):\n",
        "  a=yazi.count(\"zip\")\n",
        "  if a<2:\n",
        "    return -1\n",
        "  elif a>=2:\n",
        "    return yazi.index(\"zip\", yazi.index(\"zip\")+3)\n",
        "print(zip(\"pythonda zip kullanımı varmış,zipi araitırıp öğrendim.\"))\n",
        "print(zip(\"burada -1 döndürecek\"))\n",
        "print(zip(\"zip yine -1 döndürecek\"))"
      ],
      "execution_count": 3,
      "outputs": [
        {
          "output_type": "stream",
          "text": [
            "30\n",
            "-1\n",
            "-1\n"
          ],
          "name": "stdout"
        }
      ]
    },
    {
      "cell_type": "markdown",
      "metadata": {
        "id": "8vPj2bE3ko36"
      },
      "source": [
        "Yazının içersindeki kelimelerin ilk ve son karakterleri sabit tutup diğer karakterleri yerine - çizgi koyan fonksiyon yazalım."
      ]
    },
    {
      "cell_type": "code",
      "metadata": {
        "colab": {
          "base_uri": "https://localhost:8080/"
        },
        "id": "Y8cbmucvksAD",
        "outputId": "feb7bdb3-7e3e-452e-92b2-193c72f33ec3"
      },
      "source": [
        "def dönüstür(yazi):\n",
        "  liste=yazi.split()\n",
        "  yeni=\"\"\n",
        "  for i in liste:\n",
        "    for k in i:\n",
        "      if i.index(k)==0:\n",
        "        yeni+=k\n",
        "      elif i.index(k)== len(i)-1:\n",
        "        yeni+=k+\" \"\n",
        "      else:\n",
        "        yeni+=\"-\"\n",
        "  return yeni\n",
        "print(dönüstür(\"hello world\")) "
      ],
      "execution_count": 1,
      "outputs": [
        {
          "output_type": "stream",
          "text": [
            "h---o w---d \n"
          ],
          "name": "stdout"
        }
      ]
    },
    {
      "cell_type": "markdown",
      "metadata": {
        "id": "Vqglb_ZQkx0b"
      },
      "source": [
        "Çok fazla alt listesi olan bir listede  değeri veren bir fonksiyon yazalım"
      ]
    },
    {
      "cell_type": "code",
      "metadata": {
        "colab": {
          "base_uri": "https://localhost:8080/"
        },
        "id": "iyc_USOWk1bl",
        "outputId": "2af5dd1e-5794-47dc-e579-02b0102329f9"
      },
      "source": [
        "def sadelestir(deger):\n",
        "  if type(deger)==list:\n",
        "    return sadelestir(deger[0])\n",
        "  else:\n",
        "    return deger\n",
        "print(sadelestir([[[[[[[[[[[18]]]]]]]]]]]))\n",
        "print(sadelestir([3]))\n",
        "print(sadelestir([[[[[[[[[[[[[[[[12]]]]]]]]]]]]]]]]))"
      ],
      "execution_count": 2,
      "outputs": [
        {
          "output_type": "stream",
          "text": [
            "18\n",
            "3\n",
            "12\n"
          ],
          "name": "stdout"
        }
      ]
    },
    {
      "cell_type": "markdown",
      "metadata": {
        "id": "6nfM87BhtXr1"
      },
      "source": [
        "**27**Ali ve Mehmet 'in yarışan 3'er tane arabaları var. yavaş(y),orta(o),hızlı(h).Ali'nin arabaları Mehmet'in arabalarından güçlü olsa da Mehmet'in bir planı var.\n",
        "\n",
        "Raunt1[y,h] En yavaş arabayı en hızlı arabaya kurban et.\n",
        "\n",
        "Raunt2[o,y] Orta ile yavaşı yen\n",
        "\n",
        "Raunt3[h,o] hızlı ile ortayı yen.\n",
        "\n",
        "Mehmet kazandığında True çıktısı verecek,kaybettiğinde False çıktısı verecek bir fonksiyon yazalım."
      ]
    },
    {
      "cell_type": "code",
      "metadata": {
        "colab": {
          "base_uri": "https://localhost:8080/"
        },
        "id": "QbNaR91BtdZG",
        "outputId": "8336c245-0888-4149-9cf5-36e0a8562219"
      },
      "source": [
        "def Mehmet_kazandi(mehmet,ali):\n",
        "  if mehmet[1]>ali[0] and mehmet[2]>ali[1]:\n",
        "    return True\n",
        "  else:\n",
        "    return False\n",
        "\n",
        "print(Mehmet_kazandi([3,5,10],[4,7,11]))\n",
        "print(Mehmet_kazandi([6,8,9],[7,12,14]))\n",
        "print(Mehmet_kazandi([1,8,20],[2,9,50]))"
      ],
      "execution_count": 67,
      "outputs": [
        {
          "output_type": "stream",
          "text": [
            "True\n",
            "False\n",
            "True\n"
          ],
          "name": "stdout"
        }
      ]
    },
    {
      "cell_type": "markdown",
      "metadata": {
        "id": "EEvLCCZPtiW-"
      },
      "source": [
        "Her girdi listesinde iki tanesi hariç her rakam en az bir kere tekrarlıyor.iki benzersiz sayıyı döndüren bir fonksiyon yazalım."
      ]
    },
    {
      "cell_type": "code",
      "metadata": {
        "colab": {
          "base_uri": "https://localhost:8080/"
        },
        "id": "1QsBP4f0ti3c",
        "outputId": "9b06ef8e-56e8-41a7-d217-e40bdc6f1bd3"
      },
      "source": [
        "def benzersizi_bul(girdi):\n",
        "  yeni=[]\n",
        "  a=\"\"\n",
        "  for i in girdi:\n",
        "    a+=str(i)\n",
        "  for s in a:\n",
        "    if a.count(s)==1:\n",
        "      yeni.append(int(s))\n",
        "  return yeni\n",
        "benzersizi_bul([2,2,3,11,3,6,5])"
      ],
      "execution_count": 68,
      "outputs": [
        {
          "output_type": "execute_result",
          "data": {
            "text/plain": [
              "[6, 5]"
            ]
          },
          "metadata": {
            "tags": []
          },
          "execution_count": 68
        }
      ]
    },
    {
      "cell_type": "markdown",
      "metadata": {
        "id": "FPRGHbWgt0Y8"
      },
      "source": [
        "**28** Example:\n",
        "\n",
        "Input:\n",
        "\n",
        "[\"eat\", \"tea\", \"tan\", \"ate\", \"nat\", \"bat\"]\n",
        "\n",
        "Output:\n",
        "\n",
        "[\n",
        "  [\"ate\",\"eat\",\"tea\"],\n",
        "  [\"nat\",\"tan\"],\n",
        "  [\"bat\"]\n",
        "]\n",
        "\n",
        "Note:\n",
        "All inputs will be in lowercase.\n",
        "The order of your output does not matter."
      ]
    },
    {
      "cell_type": "code",
      "metadata": {
        "colab": {
          "base_uri": "https://localhost:8080/"
        },
        "id": "B1G8ao-Jt5rb",
        "outputId": "01ef9528-17c3-4201-a82b-e24df04b4994"
      },
      "source": [
        "liste=[\"eat\", \"tea\", \"tan\",\"ate\", \"nat\", \"bat\"]\n",
        "sorted_list=[]\n",
        "sonuc=[]\n",
        "for i in liste:\n",
        "  if sorted(i) not in sorted_list:\n",
        "    sorted_list.append(sorted(i))\n",
        "for a in range(len(sorted_list)):\n",
        "  sonuc.append([i for i in liste if sorted(i)==sorted_list[a]])\n",
        "\n",
        "print(sonuc)  "
      ],
      "execution_count": 69,
      "outputs": [
        {
          "output_type": "stream",
          "text": [
            "[['eat', 'tea', 'ate'], ['tan', 'nat'], ['bat']]\n"
          ],
          "name": "stdout"
        }
      ]
    },
    {
      "cell_type": "markdown",
      "metadata": {
        "id": "Kk-jYJpbt-ZN"
      },
      "source": [
        "**29** \"Ping\"lerin arasına \"Pong\" yazan, değerin içinde True varsa sona da koyan False varsa koymayan bir fonksiyon yazalım"
      ]
    },
    {
      "cell_type": "code",
      "metadata": {
        "colab": {
          "base_uri": "https://localhost:8080/"
        },
        "id": "VBs_j9v0uGio",
        "outputId": "d5d95873-af9a-4c4f-84bd-cdad63e0960d"
      },
      "source": [
        "def yerlestir(liste, boolean):\n",
        "  for i in range(1,len(liste)*2-1,2):\n",
        "    liste.insert(i,\"Pong\")\n",
        "  if boolean==True:\n",
        "    liste.append(\"Pong\") \n",
        "  return liste\n",
        "  \n",
        "print(yerlestir([\"Ping\",\"Ping\"],True))\n",
        "print(yerlestir([\"Ping\",\"Ping\",\"Ping\",\"Ping\",\"Ping\",\"Ping\"],False))"
      ],
      "execution_count": 70,
      "outputs": [
        {
          "output_type": "stream",
          "text": [
            "['Ping', 'Pong', 'Ping', 'Pong']\n",
            "['Ping', 'Pong', 'Ping', 'Pong', 'Ping', 'Pong', 'Ping', 'Pong', 'Ping', 'Pong', 'Ping']\n"
          ],
          "name": "stdout"
        }
      ]
    },
    {
      "cell_type": "markdown",
      "metadata": {
        "id": "Rm8T_8GvuMtK"
      },
      "source": [
        "Bir stringi(kelime) alan ve birbirini izleyen aynı harfleri çıkaran bir fonksiyon oluşturun."
      ]
    },
    {
      "cell_type": "code",
      "metadata": {
        "colab": {
          "base_uri": "https://localhost:8080/"
        },
        "id": "ckYqlZ-vuReB",
        "outputId": "814e42a4-2bd2-4051-ce1d-beb51d1a7087"
      },
      "source": [
        "def cıkar(kelime):\n",
        "  yeni=\"\"\n",
        "  for i in range(len(kelime)-1):\n",
        "    if kelime[i]!=kelime[i+1]:\n",
        "      yeni+=kelime[i]\n",
        "  yeni+=kelime[-1]\n",
        "  return yeni\n",
        "print(cıkar(\"mmmeeerrhhhaaabbbaaa\"))\n",
        "print(cıkar(\"ssseeellllaaammm\"))"
      ],
      "execution_count": 71,
      "outputs": [
        {
          "output_type": "stream",
          "text": [
            "merhaba\n",
            "selam\n"
          ],
          "name": "stdout"
        }
      ]
    },
    {
      "cell_type": "markdown",
      "metadata": {
        "id": "M31R_eeSucYc"
      },
      "source": [
        "**30** Sekiz tane 1 veya 0 dan oluşan bir liste verilecek. 8 bit ikili sayıyı alan ve onlu sisteme dönüştüren bir fonsiyon yazalım"
      ]
    },
    {
      "cell_type": "code",
      "metadata": {
        "colab": {
          "base_uri": "https://localhost:8080/"
        },
        "id": "nb4K8lAwu4cl",
        "outputId": "031d10cc-5f4c-4da9-bf0d-cb859e7aedf0"
      },
      "source": [
        "def onluga_cevir(liste):\n",
        "  sum=liste[-1]*1+liste[-2]*2+liste[-3]*4+liste[-4]*8+liste[-5]*16+liste[-6]*32+liste[-7]*64+liste[-8]*128\n",
        "  return sum\n",
        "\n",
        "print(onluga_cevir([1,1,1,1,1,1,1,1]))\n",
        "print(onluga_cevir([1,0,0,1,0,1,0,1]))"
      ],
      "execution_count": 72,
      "outputs": [
        {
          "output_type": "stream",
          "text": [
            "255\n",
            "149\n"
          ],
          "name": "stdout"
        }
      ]
    },
    {
      "cell_type": "markdown",
      "metadata": {
        "id": "1nyrFkV-vE_L"
      },
      "source": [
        "sayıalr listesini alan ve içerisinde 5 varsa \"yuppi\", yoksa \"malesef\" yazdıran bir fonksiyon yazalım."
      ]
    },
    {
      "cell_type": "code",
      "metadata": {
        "colab": {
          "base_uri": "https://localhost:8080/"
        },
        "id": "2cqEdtf1vJJN",
        "outputId": "3d401e95-79eb-430a-bae0-3f57422ca6bb"
      },
      "source": [
        "def bes_var(liste):\n",
        "  yeni=\"\"\n",
        "  for i in liste:\n",
        "    yeni+=str(i)\n",
        "  if \"7\" in yeni:\n",
        "    return \"yuppi\"\n",
        "  elif \"7\" not in yeni:\n",
        "    return \"malesef\"\n",
        "print(bes_var([23,17,54,9,45]))\n",
        "print(bes_var([1,2,3,4,5,6,8]))\n",
        "print(bes_var([1,2,3,4,5,6,7,8]))"
      ],
      "execution_count": 73,
      "outputs": [
        {
          "output_type": "stream",
          "text": [
            "yuppi\n",
            "malesef\n",
            "yuppi\n"
          ],
          "name": "stdout"
        }
      ]
    },
    {
      "cell_type": "markdown",
      "metadata": {
        "id": "h1hCjd3YvNpV"
      },
      "source": [
        "**31** Malzeme listesi ve seçilen malzemeyi girdi olaraka alın. Seçili malzemelerin çevresinde ekmek olacak şekilde listeyi döndüren bir fonksiyon yazalım"
      ]
    },
    {
      "cell_type": "code",
      "metadata": {
        "colab": {
          "base_uri": "https://localhost:8080/"
        },
        "id": "oZCyt9x3vWZf",
        "outputId": "411cba75-10dd-4d60-8e35-1c7abc91103a"
      },
      "source": [
        "def ekmek(liste,malzeme):\n",
        "  yeni=[]\n",
        "  for i in liste:\n",
        "    if i!=malzeme:\n",
        "      yeni.append(i)\n",
        "    elif i==malzeme:\n",
        "      yeni.append(\"ekmek\")\n",
        "      yeni.append(i)\n",
        "      if liste[liste.index(i)+1]!=malzeme:\n",
        "        yeni.append(\"ekmek\")\n",
        "  return yeni\n",
        "\n",
        "print(ekmek([\"ton\",\"salam\",\"domates\"],\"salam\"))\n",
        "print(ekmek([\"ton\",\"ton\",\"ton\"],\"ton\"))"
      ],
      "execution_count": 74,
      "outputs": [
        {
          "output_type": "stream",
          "text": [
            "['ton', 'ekmek', 'salam', 'ekmek', 'domates']\n",
            "['ekmek', 'ton', 'ekmek', 'ton', 'ekmek', 'ton']\n"
          ],
          "name": "stdout"
        }
      ]
    },
    {
      "cell_type": "markdown",
      "metadata": {
        "id": "X7DprJR1vcPR"
      },
      "source": [
        "Belirli aralıkta(sınırlar dahil) verilen rakamın kaç kere olduğunu sayan bir fonksiyon yazalım."
      ]
    },
    {
      "cell_type": "code",
      "metadata": {
        "colab": {
          "base_uri": "https://localhost:8080/"
        },
        "id": "1rW8LS7mveyL",
        "outputId": "3b6a65a8-b529-46e5-e53b-747c711519ea"
      },
      "source": [
        "def kac_tane(baslangic, bitis, sayi):\n",
        "  yeni = \"\"\n",
        "  sonuc=0\n",
        "  for i in range(baslangic, bitis+1):\n",
        "    yeni+=str(i)\n",
        "  for i in yeni:\n",
        "    if i==str(sayi):\n",
        "      sonuc+=1\n",
        "  return sonuc\n",
        "\n",
        "print(kac_tane(50,55,5))"
      ],
      "execution_count": 75,
      "outputs": [
        {
          "output_type": "stream",
          "text": [
            "7\n"
          ],
          "name": "stdout"
        }
      ]
    },
    {
      "cell_type": "markdown",
      "metadata": {
        "id": "7jkzRmTTvmFm"
      },
      "source": [
        "**32** 12 saatlik formatta verilen stringi 24 saatlik formata, eğer 24 saatlik verilmişse 12 saate çeviren fonksiyon yazalım"
      ]
    },
    {
      "cell_type": "code",
      "metadata": {
        "colab": {
          "base_uri": "https://localhost:8080/"
        },
        "id": "uhpneBcbvuMF",
        "outputId": "997613a9-cbe9-452f-9ee3-29e1fe45124c"
      },
      "source": [
        "def saat_cevir(saat):\n",
        "  if \"am\" in saat:\n",
        "    if saat[:2]==\"12\":\n",
        "      return \"00:\"+saat[3:5]\n",
        "    else:\n",
        "      return saat[:5]\n",
        "  elif \"pm\" in saat:\n",
        "    return str(int(saat[:saat.index(\":\")])+12)+saat[saat.index(\":\"):(saat.index(\":\")+3)]\n",
        "  elif int(saat[:saat.index(\":\")])>=12:\n",
        "    return str(int(saat[:saat.index(\":\")])-12)+ saat[saat.index(\":\"):]+\" pm\"\n",
        "  elif int(saat[:saat.index(\":\")])<12:\n",
        "    return saat+\" am\" \n",
        "\n",
        "print(saat_cevir(\"12:00 am\"))\n",
        "print(saat_cevir(\"15:15\"))\n",
        "print(saat_cevir(\"2:00\"))\n",
        "print(saat_cevir(\"2:00 pm\"))"
      ],
      "execution_count": 76,
      "outputs": [
        {
          "output_type": "stream",
          "text": [
            "00:00\n",
            "3:15 pm\n",
            "2:00 am\n",
            "14:00\n"
          ],
          "name": "stdout"
        }
      ]
    },
    {
      "cell_type": "markdown",
      "metadata": {
        "id": "Nuxv836EvylV"
      },
      "source": [
        "Kenar uzunlukları verilen üçgen dik üçgen ise True, değilse False yazdıran fonksiyon yazalım"
      ]
    },
    {
      "cell_type": "code",
      "metadata": {
        "colab": {
          "base_uri": "https://localhost:8080/"
        },
        "id": "IJPJ2Cd6v1hf",
        "outputId": "79ba53d0-93be-4061-c114-1bc30a3bef09"
      },
      "source": [
        "def dik_ücgen(a,b,c):\n",
        "  h=max(a,b,c)\n",
        "  kenarlar=[a,b,c]\n",
        "  kenarlar.remove(h)\n",
        "  top=0\n",
        "  for i in kenarlar:\n",
        "    top+=i**2\n",
        "  if h**2==top:\n",
        "    return True\n",
        "  else:\n",
        "    return False\n",
        "print(dik_ücgen(70,130,110))\n",
        "print(dik_ücgen(3,4,5))\n",
        "print(dik_ücgen(24,7,25))"
      ],
      "execution_count": 77,
      "outputs": [
        {
          "output_type": "stream",
          "text": [
            "False\n",
            "True\n",
            "True\n"
          ],
          "name": "stdout"
        }
      ]
    },
    {
      "cell_type": "markdown",
      "metadata": {
        "id": "r-h1sUTlwBXu"
      },
      "source": [
        "**33** Telefon numarası(strin biçimde) doğru formatta ise True değilse False döndüren bir fonksiyon yazalım\n",
        "\n",
        "doğru format--> (123) 456-789"
      ]
    },
    {
      "cell_type": "code",
      "metadata": {
        "colab": {
          "base_uri": "https://localhost:8080/"
        },
        "id": "URvJHP2jwEXf",
        "outputId": "e4c6c49d-b73a-4d33-85e4-5d936f721604"
      },
      "source": [
        "def dogru_mu(numara):\n",
        "  rakam=\"0123456789\"\n",
        "  return numara[0]==\"(\" and numara[4:6]==\") \" and numara[9]==\"-\" and set(numara[1:4]+numara[6:9]+numara[10:]).issubset(set(rakam))==True\n",
        "\n",
        "print(dogru_mu(\"(123) 456-789\"))\n",
        "print(dogru_mu(\"(123)456-789\"))\n",
        "print(dogru_mu(\"(123) 456 789\"))\n",
        "print(dogru_mu(\"(12a) 4b6-789\"))"
      ],
      "execution_count": 82,
      "outputs": [
        {
          "output_type": "stream",
          "text": [
            "True\n",
            "False\n",
            "False\n",
            "False\n"
          ],
          "name": "stdout"
        }
      ]
    },
    {
      "cell_type": "markdown",
      "metadata": {
        "id": "sjC8XOj0wRkm"
      },
      "source": [
        "Stringin ilk kelimesinin hepsini küçük harfe dönüştüren diğer kelimelerin sadece ilk harfini büyük harf yapan ve kelimeleri boşlukları kaldırarak sıralayan bir fonksiyon yazalım.(camelCase)"
      ]
    },
    {
      "cell_type": "code",
      "metadata": {
        "colab": {
          "base_uri": "https://localhost:8080/"
        },
        "id": "3_Uv3JaT0wQk",
        "outputId": "4082f257-ba25-45aa-bee7-ad6938e38b5a"
      },
      "source": [
        "def camelCase(cümle):\n",
        "  a=cümle.split()\n",
        "  yeni=\"\"\n",
        "  for i in a:\n",
        "    if a.index(i)==0:\n",
        "      yeni+=i.lower()\n",
        "    else:\n",
        "      yeni+=i.capitalize()\n",
        "  return yeni\n",
        "print(camelCase(\"Hello World\"))\n",
        "print(camelCase(\"How are you? Don't ask me how I am.\"))\n",
        "print(camelCase(\"why are you so upset?\"))"
      ],
      "execution_count": 81,
      "outputs": [
        {
          "output_type": "stream",
          "text": [
            "helloWorld\n",
            "howAreYou?Don'tAskMeHowIAm.\n",
            "whyAreYouSoUpset?\n"
          ],
          "name": "stdout"
        }
      ]
    },
    {
      "cell_type": "markdown",
      "metadata": {
        "id": "GCu9Nds6017L"
      },
      "source": [
        "**34** Yüksekliği verilen yılbaşı ağacını oluşturan bir fonksiyon yazalım.\n"
      ]
    },
    {
      "cell_type": "code",
      "metadata": {
        "colab": {
          "base_uri": "https://localhost:8080/"
        },
        "id": "L85RWoIx1ZIW",
        "outputId": "c03d8302-a380-4ca6-d4be-b36b5934a9e8"
      },
      "source": [
        "def agac(yükseklik):\n",
        "  i=1\n",
        "  while i <= (2*yükseklik-1):\n",
        "    print((i*\"#\").center(2*yükseklik-1))\n",
        "    i+=2\n",
        "agac(7)"
      ],
      "execution_count": 80,
      "outputs": [
        {
          "output_type": "stream",
          "text": [
            "      #      \n",
            "     ###     \n",
            "    #####    \n",
            "   #######   \n",
            "  #########  \n",
            " ########### \n",
            "#############\n"
          ],
          "name": "stdout"
        }
      ]
    },
    {
      "cell_type": "markdown",
      "metadata": {
        "id": "mJjpNnzo1dX6"
      },
      "source": [
        "Anagramları bulan fonksiyon yazalım."
      ]
    },
    {
      "cell_type": "code",
      "metadata": {
        "colab": {
          "base_uri": "https://localhost:8080/"
        },
        "id": "j7WSM9uA1jvg",
        "outputId": "1120610c-17d1-4f49-dc72-61e2b18820bc"
      },
      "source": [
        "def anagram(text):\n",
        "  liste=[x.strip(\".<,*=)(/+&?£_|:;~!\\$}]>[{#\").lower() for x in text.split()]\n",
        "  sorted_list=[]\n",
        "  group_list=[]\n",
        "  anagrams=[]\n",
        "  for i in liste:\n",
        "    if sorted(i) not in sorted_list:\n",
        "      sorted_list.append(sorted(i))\n",
        "  for a in range(len(sorted_list)):\n",
        "    group_list.append([i for i in liste if sorted(i) == sorted_list[a]])\n",
        "  for i in group_list:\n",
        "    if len(i)>=2:\n",
        "      anagrams.append(i)\n",
        "  return anagrams\n",
        "anagram(\"listen SILENT ROOPA TABU. OOPAR BUAT PAROO Soudipta? Kheyali Park Tollygaunge BUTA AROOP* Love AOORP +Protijayi Paikpara dipSouta/ Shyambazaar jayiProti North Calcutta Sovabazaar\")"
      ],
      "execution_count": 79,
      "outputs": [
        {
          "output_type": "execute_result",
          "data": {
            "text/plain": [
              "[['listen', 'silent'],\n",
              " ['roopa', 'oopar', 'paroo', 'aroop', 'aoorp'],\n",
              " ['tabu', 'buat', 'buta'],\n",
              " ['soudipta', 'dipsouta'],\n",
              " ['protijayi', 'jayiproti']]"
            ]
          },
          "metadata": {
            "tags": []
          },
          "execution_count": 79
        }
      ]
    },
    {
      "cell_type": "markdown",
      "metadata": {
        "id": "L0eAuNr51vf0"
      },
      "source": [
        "**35** Dict keyleri stringle temsil edilen ve değerleri int(frekansı temsil eden) olan sözlük verisi var. Sözlüğün değerlerini frekans yerine dereceye dönüştürerek pasta grafiğini döndüren bir fonksiyon yazalım "
      ]
    },
    {
      "cell_type": "code",
      "metadata": {
        "colab": {
          "base_uri": "https://localhost:8080/"
        },
        "id": "-GdyiNKZ148v",
        "outputId": "44608b14-63ba-492b-a37d-77b459018a51"
      },
      "source": [
        "def pasta_grafigi(sözlük):\n",
        "  kat_sayi=360/sum(sözlük.values())\n",
        "  for i in sözlük:\n",
        "    sözlük[i]=round(kat_sayi*sözlük[i],1)\n",
        "  return sözlük\n",
        "print(pasta_grafigi({\"a\":1,\"b\":2}))\n",
        "print(pasta_grafigi({\"a\":8,\"b\":21,\"c\":12,\"d\":5,\"e\":4}))"
      ],
      "execution_count": 83,
      "outputs": [
        {
          "output_type": "stream",
          "text": [
            "{'a': 120.0, 'b': 240.0}\n",
            "{'a': 57.6, 'b': 151.2, 'c': 86.4, 'd': 36.0, 'e': 28.8}\n"
          ],
          "name": "stdout"
        }
      ]
    },
    {
      "cell_type": "markdown",
      "metadata": {
        "id": "EQrpHbLr18u6"
      },
      "source": [
        "**36** Sayının eklemeli devamlılığını ve sürekli devamlılığını bulan fonksiyonlar yazalım\n",
        "\n",
        "eklemeli_devamlılık(1679583)\n",
        "\n",
        "1+6+7+9+5+8+3=39\n",
        "\n",
        "3+9=12\n",
        "\n",
        "1+2=3\n",
        "\n",
        "Tek basamaklı sayıya ulaşmak için 3 tekrar gerekiyor"
      ]
    },
    {
      "cell_type": "code",
      "metadata": {
        "colab": {
          "base_uri": "https://localhost:8080/"
        },
        "id": "B089zhrT2GW4",
        "outputId": "769e7956-c732-4411-a062-540cd8c110ca"
      },
      "source": [
        "def eklemeli_devamlılık(sayi):\n",
        "  islem=0\n",
        "  while len(str(sayi))>1:\n",
        "    sayi=sum([int(i) for i in str(sayi)])\n",
        "    islem+=1\n",
        "  return islem\n",
        "\n",
        "print(eklemeli_devamlılık(1679583))\n",
        "print(eklemeli_devamlılık(123456))"
      ],
      "execution_count": 84,
      "outputs": [
        {
          "output_type": "stream",
          "text": [
            "3\n",
            "2\n"
          ],
          "name": "stdout"
        }
      ]
    },
    {
      "cell_type": "markdown",
      "metadata": {
        "id": "9qpQOHvx2LEt"
      },
      "source": [
        "carpan devamlılığı(123456)-->2\n",
        "\n",
        "1*2*3*4*5*6=720\n",
        "\n",
        "7*2*0=0\n",
        "\n",
        "Tek basamaklı sayıya ulaşmak için 2 tekrar gerekiyor."
      ]
    },
    {
      "cell_type": "code",
      "metadata": {
        "colab": {
          "base_uri": "https://localhost:8080/"
        },
        "id": "iiDDUmg62N8O",
        "outputId": "806fbd47-a3a0-4164-f470-d6296f6e2b61"
      },
      "source": [
        "def carpan_devamlılık(sayi):\n",
        "  islem=0\n",
        "  carpım=1\n",
        "  while len(str(sayi))>1:\n",
        "    for i in str(sayi):\n",
        "      sayi*=int(i)\n",
        "    islem+=1\n",
        "  return islem\n",
        "\n",
        "print(carpan_devamlılık(123456))\n",
        "print(carpan_devamlılık(4))\n",
        "print(carpan_devamlılık(77))"
      ],
      "execution_count": 85,
      "outputs": [
        {
          "output_type": "stream",
          "text": [
            "2\n",
            "0\n",
            "4\n"
          ],
          "name": "stdout"
        }
      ]
    },
    {
      "cell_type": "markdown",
      "metadata": {
        "id": "L03ZFt2b2XK-"
      },
      "source": [
        "**37** tamamlanır_mı(\"gzel\", \"güzel\")-->True\n",
        "\n",
        "g ve zel arasına ü eklenebilir.\n",
        "\n",
        "tamamlanır_mı(\"gzela\", \"güzel\")-->False\n",
        "\n",
        "a harfi çıkarılmış.\n",
        "\n",
        "tamamlanır_mı(\"ggzl\", \"güzel\")-->False\n",
        "\n",
        "g harfi çıkarılmış.\n",
        "\n",
        "tamamlanır_mı(\"zül\", \"güzel\")-->False\n",
        "\n",
        "kelime sıralaması doğru değil."
      ]
    },
    {
      "cell_type": "code",
      "metadata": {
        "colab": {
          "base_uri": "https://localhost:8080/"
        },
        "id": "Pl7TMuwl2bys",
        "outputId": "033cb537-b12c-43c0-e3b1-b60a390f8302"
      },
      "source": [
        "def tamamlanır_mı(ilk,son):\n",
        "  y_ilk=list(ilk)[::-1]\n",
        "  for i in son:\n",
        "    if i == y_ilk[-1]:\n",
        "      y_ilk.pop()\n",
        "  return not y_ilk\n",
        "tamamlanır_mı(\"zül\", \"güzel\")"
      ],
      "execution_count": 88,
      "outputs": [
        {
          "output_type": "execute_result",
          "data": {
            "text/plain": [
              "False"
            ]
          },
          "metadata": {
            "tags": []
          },
          "execution_count": 88
        }
      ]
    },
    {
      "cell_type": "markdown",
      "metadata": {
        "id": "bYwYeGZZ2eOh"
      },
      "source": [
        "Cümlenin harlerden oluşan kısımlarının alfabedeki yerindeki sayılarının toplamına, rakamlar var ise sayı değerlerin toplamı asal ise asal değil ise asal değil yazdıran fonksiyon yazalım."
      ]
    },
    {
      "cell_type": "code",
      "metadata": {
        "colab": {
          "base_uri": "https://localhost:8080/"
        },
        "id": "2vl_t3B42hJo",
        "outputId": "5c0c3f14-ec83-4d46-9fd1-9ae131b54f45"
      },
      "source": [
        "def sayısal_asallıgı(cümle):\n",
        "  harf=\"0abcdefghijklmnopqrstuvwxyz\"\n",
        "  rakam=\"0123456789\"\n",
        "  sum=0\n",
        "  islem=0\n",
        "  for i in cümle.lower():\n",
        "    if i in harf:\n",
        "      sum+=harf.index(i)\n",
        "    elif i in rakam:\n",
        "      sum+=rakam.index(i)\n",
        "  \n",
        "  for i in range(2,sum):\n",
        "    if sum % i==0:\n",
        "      islem+=1\n",
        "  if islem == 0:\n",
        "    return \"Asal\"\n",
        "  else:\n",
        "    return \"Asal değil\"\n",
        "\n",
        "print(sayısal_asallıgı(\"Help me!\"))\n",
        "print(sayısal_asallıgı(\"42 is THE ANSWER...\"))\n",
        "print(sayısal_asallıgı(\"ABC!123@abc...\"))"
      ],
      "execution_count": 86,
      "outputs": [
        {
          "output_type": "stream",
          "text": [
            "Asal\n",
            "Asal değil\n",
            "Asal değil\n"
          ],
          "name": "stdout"
        }
      ]
    },
    {
      "cell_type": "markdown",
      "metadata": {
        "id": "dVLkuB-G20-k"
      },
      "source": [
        "**38** Verilen listedeki sayıların çarpan sayısını bulan  ve çarpan sayısına göre listeyi sıralayan fonksiyon yazalım."
      ]
    },
    {
      "cell_type": "code",
      "metadata": {
        "colab": {
          "base_uri": "https://localhost:8080/"
        },
        "id": "Ja7F1GzO25-R",
        "outputId": "ff6db2c6-24b1-4b2f-ce37-a3213bb50a8e"
      },
      "source": [
        "def faktör_uzunlugu(liste):\n",
        "  s_f={}\n",
        "  for i in liste:\n",
        "    s_f[i]=len([k for k in range(1,i+1) if i%k==0])\n",
        "  a=sorted(s_f , key= lambda k :s_f[k], reverse=True)\n",
        "  return a\n",
        "\n",
        "print(faktör_uzunlugu([1,2,31,4]))\n",
        "print(faktör_uzunlugu([5,7,9])) "
      ],
      "execution_count": 89,
      "outputs": [
        {
          "output_type": "stream",
          "text": [
            "[4, 2, 31, 1]\n",
            "[9, 5, 7]\n"
          ],
          "name": "stdout"
        }
      ]
    }
  ]
}