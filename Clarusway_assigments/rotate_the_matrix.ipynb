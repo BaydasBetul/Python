{
  "nbformat": 4,
  "nbformat_minor": 0,
  "metadata": {
    "colab": {
      "name": "rotate_the_matrix.ipynb",
      "provenance": []
    },
    "kernelspec": {
      "name": "python3",
      "display_name": "Python 3"
    },
    "language_info": {
      "name": "python"
    }
  },
  "cells": [
    {
      "cell_type": "markdown",
      "metadata": {
        "id": "aXN09-95fX9Q"
      },
      "source": [
        "```\n",
        "This problem was asked by Facebook.\n",
        "Given an N by N matrix, rotate it by 90 degrees clockwise.\n",
        "For example, given the following matrix:\n",
        "[[1, 2, 3],\n",
        " [4, 5, 6],\n",
        " [7, 8, 9]]\n",
        "you should return:\n",
        "[[7, 4, 1],\n",
        " [8, 5, 2],\n",
        " [9, 6, 3]]\n",
        "```\n",
        "\n",
        "\n"
      ]
    },
    {
      "cell_type": "code",
      "metadata": {
        "colab": {
          "base_uri": "https://localhost:8080/"
        },
        "id": "75uYY0McAUXY",
        "outputId": "3a6aa22a-e6fa-45b6-f1ae-b792fe06e3da"
      },
      "source": [
        "def rotate(a): \n",
        "  return [list(i) for i in list(zip(*a[::-1]))]\n",
        "rotate([[1, 2, 3],[4, 5, 6],[7, 8, 9]])"
      ],
      "execution_count": 10,
      "outputs": [
        {
          "output_type": "execute_result",
          "data": {
            "text/plain": [
              "[[7, 4, 1], [8, 5, 2], [9, 6, 3]]"
            ]
          },
          "metadata": {
            "tags": []
          },
          "execution_count": 10
        }
      ]
    },
    {
      "cell_type": "code",
      "metadata": {
        "colab": {
          "base_uri": "https://localhost:8080/"
        },
        "id": "hnT2cbFpbmDd",
        "outputId": "e8c33804-7ae5-471b-81c4-c73b568eeeaa"
      },
      "source": [
        "import numpy as np\n",
        "def rotate(x):\n",
        "    return np.array(x[::-1]).T\n",
        "comolokko([[1, 2, 3],[4, 5, 6],[7, 8, 9]])"
      ],
      "execution_count": 11,
      "outputs": [
        {
          "output_type": "stream",
          "text": [
            "[[7 4 1]\n",
            " [8 5 2]\n",
            " [9 6 3]]\n"
          ],
          "name": "stdout"
        }
      ]
    }
  ]
}