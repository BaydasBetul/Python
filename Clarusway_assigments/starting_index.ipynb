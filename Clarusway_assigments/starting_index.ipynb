{
  "nbformat": 4,
  "nbformat_minor": 0,
  "metadata": {
    "colab": {
      "name": "starting_index.ipynb",
      "provenance": [],
      "collapsed_sections": []
    },
    "kernelspec": {
      "name": "python3",
      "display_name": "Python 3"
    },
    "language_info": {
      "name": "python"
    }
  },
  "cells": [
    {
      "cell_type": "markdown",
      "metadata": {
        "id": "QGkE3ttGimE1"
      },
      "source": [
        "This problem was asked by Microsoft.\n",
        "\n",
        "Given a string and a pattern, find the starting indices of all occurrences of\n",
        "the pattern in the string. For example, given the string \"abracadabra\" and the\n",
        "pattern \"abr\", you should return [0, 7]"
      ]
    },
    {
      "cell_type": "code",
      "metadata": {
        "colab": {
          "base_uri": "https://localhost:8080/"
        },
        "id": "Kuf1hGroeW9w",
        "outputId": "54c91252-677f-4ba2-fcc4-0d9211f8a93a"
      },
      "source": [
        "def starting_index(k,l):\n",
        "  return [i for i in range(len(k)) if k.startswith(l,i)]\n",
        "\n",
        "starting_index(\"abraabrcaabrdabra\",\"abr\")"
      ],
      "execution_count": 2,
      "outputs": [
        {
          "output_type": "execute_result",
          "data": {
            "text/plain": [
              "[0, 4, 9, 13]"
            ]
          },
          "metadata": {
            "tags": []
          },
          "execution_count": 2
        }
      ]
    }
  ]
}