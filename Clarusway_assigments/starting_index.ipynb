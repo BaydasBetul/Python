{
  "nbformat": 4,
  "nbformat_minor": 0,
  "metadata": {
    "colab": {
      "name": "starting_index.ipynb",
      "provenance": []
    },
    "kernelspec": {
      "name": "python3",
      "display_name": "Python 3"
    },
    "language_info": {
      "name": "python"
    }
  },
  "cells": [
    {
      "cell_type": "markdown",
      "metadata": {
        "id": "ap8ykIcTRTr3"
      },
      "source": [
        "This problem was asked by Google.\n",
        "\n",
        "Given a string, split it into as few strings as possible such that each string\n",
        "is a palindrome.\n",
        "\n",
        "For example, given the input string racecarannakayak, return [\"racecar\", \"anna\",\n",
        "\"kayak\"].\n",
        "\n",
        "Given the input string abc, return [\"a\", \"b\", \"c\"]"
      ]
    },
    {
      "cell_type": "code",
      "metadata": {
        "colab": {
          "base_uri": "https://localhost:8080/"
        },
        "id": "JFb7FpwSRRtm",
        "outputId": "b3e2d551-aa93-454a-827a-bf95c614c766"
      },
      "source": [
        "s=\"racecarannakayak\"\n",
        "k=0\n",
        "n=[]\n",
        "while k<len(s):\n",
        "  if s[:k]==s[k-1::-1]:\n",
        "    n.append(s[:k])\n",
        "    s=s[k:]\n",
        "  k+=1\n",
        "n"
      ],
      "execution_count": 17,
      "outputs": [
        {
          "output_type": "execute_result",
          "data": {
            "text/plain": [
              "['r', 'aceca']"
            ]
          },
          "metadata": {
            "tags": []
          },
          "execution_count": 17
        }
      ]
    },
    {
      "cell_type": "markdown",
      "metadata": {
        "id": "QGkE3ttGimE1"
      },
      "source": [
        "This problem was asked by Microsoft.\n",
        "\n",
        "Given a string and a pattern, find the starting indices of all occurrences of\n",
        "the pattern in the string. For example, given the string \"abracadabra\" and the\n",
        "pattern \"abr\", you should return [0, 7]"
      ]
    },
    {
      "cell_type": "code",
      "metadata": {
        "colab": {
          "base_uri": "https://localhost:8080/"
        },
        "id": "Kuf1hGroeW9w",
        "outputId": "993b8031-cb6e-4085-f7b1-4b17ddbbe561"
      },
      "source": [
        "def starting_index(k):\n",
        "  n=[]\n",
        "  for i in range(len(k)):\n",
        "    if k.startswith(\"abr\",i):\n",
        "      n.append(i)\n",
        "  return n\n",
        "starting_index(\"abraabrcaabrdabra\")"
      ],
      "execution_count": 27,
      "outputs": [
        {
          "output_type": "execute_result",
          "data": {
            "text/plain": [
              "[0, 4, 9, 13]"
            ]
          },
          "metadata": {
            "tags": []
          },
          "execution_count": 27
        }
      ]
    }
  ]
}