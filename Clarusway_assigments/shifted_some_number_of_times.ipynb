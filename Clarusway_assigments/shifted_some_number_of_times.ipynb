{
  "nbformat": 4,
  "nbformat_minor": 0,
  "metadata": {
    "colab": {
      "name": "shifted_some_number_of_times.ipynb",
      "provenance": []
    },
    "kernelspec": {
      "name": "python3",
      "display_name": "Python 3"
    },
    "language_info": {
      "name": "python"
    }
  },
  "cells": [
    {
      "cell_type": "markdown",
      "metadata": {
        "id": "dxRcnXyU_FMm"
      },
      "source": [
        "This problem was asked by Google.\n",
        "Given two strings A and B, return whether or not A can be shifted some number of times to get B.\n",
        "For example, if A is abcde and B is cdeab, return true. If A is abc and B is acb, return false."
      ]
    },
    {
      "cell_type": "code",
      "metadata": {
        "colab": {
          "base_uri": "https://localhost:8080/"
        },
        "id": "jyoxEvzM83n0",
        "outputId": "b8450738-9295-4a92-9bec-f357d00ff0dd"
      },
      "source": [
        "def shifted(a,b):\n",
        "  sonuc=False\n",
        "  for i in range(len(a)):\n",
        "    if a[i:]+a[:i]==b :\n",
        "      sonuc=True \n",
        "  return sonuc\n",
        "print(shifted(\"abc\",\"bac\"))\n",
        "print(shifted(\"abc\",\"bac\"))"
      ],
      "execution_count": 2,
      "outputs": [
        {
          "output_type": "execute_result",
          "data": {
            "text/plain": [
              "False"
            ]
          },
          "metadata": {
            "tags": []
          },
          "execution_count": 2
        }
      ]
    }
  ]
}