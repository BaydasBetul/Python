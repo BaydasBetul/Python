{
  "nbformat": 4,
  "nbformat_minor": 0,
  "metadata": {
    "colab": {
      "name": "Covid_19_Risk.ipynb",
      "provenance": []
    },
    "kernelspec": {
      "name": "python3",
      "display_name": "Python 3"
    },
    "language_info": {
      "name": "python"
    }
  },
  "cells": [
    {
      "cell_type": "markdown",
      "metadata": {
        "id": "d9NQEdv0Pna0"
      },
      "source": [
        "Task : Estimating the risk of death from coronavirus. Write a program that;\n",
        "\n",
        "Takes \"Yes\" or \"No\" from the user as an answer to the following questions :\n",
        "\n",
        "Are you a cigarette addict older than 75 years old? Variable → age\n",
        "\n",
        "Do you have a severe chronic disease? Variable → chronic\n",
        "\n",
        "Is your immune system too weak? Variable → immune\n",
        "\n",
        "Set a logical algorithm using boolean logic operators (and/or) and use if-statements with the given variables in order to print out us a message : \"You are in risky group\"(if True ) or \"You are not in risky group\" (if False)."
      ]
    },
    {
      "cell_type": "code",
      "metadata": {
        "colab": {
          "base_uri": "https://localhost:8080/"
        },
        "id": "JZYYy0uQNaGC",
        "outputId": "d92d81e8-36af-4a53-f9da-c8f79ebea13a"
      },
      "source": [
        "age=input(\"Are you a cigarette addict older than 75 years old? \").lower()\n",
        "chronic=input(\"Do you have a severe chronic disease? \").lower()\n",
        "immune=input(\"Is your immune system too weak? \").lower()\n",
        "\n",
        "if age== \"yes\":\n",
        "  age=True\n",
        "elif age==\"no\":\n",
        "  age=False\n",
        "\n",
        "if chronic== \"yes\":\n",
        "  chronic=True\n",
        "elif chronic==\"no\":\n",
        "  chronic=False\n",
        "\n",
        "if immune== \"yes\":\n",
        "  immune=True\n",
        "elif immune==\"no\":\n",
        "  immune=False\n",
        "\n",
        "if age or chronic or immune:\n",
        "  print(\"You are in risky group\")\n",
        "else:\n",
        "  print(\"You are not in risky group\")"
      ],
      "execution_count": 12,
      "outputs": [
        {
          "output_type": "stream",
          "text": [
            "Are you a cigarette addict older than 75 years old? No\n",
            "Do you have a severe chronic disease? No\n",
            "Is your immune system too weak? No\n",
            "You are not in risky group\n"
          ],
          "name": "stdout"
        }
      ]
    },
    {
      "cell_type": "code",
      "metadata": {
        "colab": {
          "base_uri": "https://localhost:8080/"
        },
        "id": "ZTYkikSzJerG",
        "outputId": "77e7c4ea-a708-4111-9472-83cc42a005b5"
      },
      "source": [
        "age=input(\"Are you a cigarette addict older than 75 years old? \").lower()\n",
        "chronic=input(\"Do you have a severe chronic disease? \").lower()\n",
        "immune=input(\"Is your immune system too weak? \").lower()\n",
        "\n",
        "if age==\"yes\" or chronic==\"yes\" or immune==\"yes\":\n",
        "  print(\"You are in risky group\")\n",
        "else:\n",
        "  print(\"You are not in risky group\")"
      ],
      "execution_count": 7,
      "outputs": [
        {
          "output_type": "stream",
          "text": [
            "Are you a cigarette addict older than 75 years old? no\n",
            "Do you have a severe chronic disease? no\n",
            "Is your immune system too weak? no\n",
            "You are not in risky group\n"
          ],
          "name": "stdout"
        }
      ]
    }
  ]
}