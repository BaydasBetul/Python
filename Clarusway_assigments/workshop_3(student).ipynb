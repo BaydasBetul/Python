{
  "nbformat": 4,
  "nbformat_minor": 0,
  "metadata": {
    "kernelspec": {
      "display_name": "Python 3",
      "language": "python",
      "name": "python3"
    },
    "language_info": {
      "codemirror_mode": {
        "name": "ipython",
        "version": 3
      },
      "file_extension": ".py",
      "mimetype": "text/x-python",
      "name": "python",
      "nbconvert_exporter": "python",
      "pygments_lexer": "ipython3",
      "version": "3.7.3"
    },
    "colab": {
      "name": "workshop-3(student).ipynb",
      "provenance": [],
      "collapsed_sections": []
    }
  },
  "cells": [
    {
      "cell_type": "markdown",
      "metadata": {
        "id": "cHA33U20ww1r"
      },
      "source": [
        "<center><img src=\"https://github.com/aaron-clarusway/fullstack/blob/master/itf-logo.png?raw=true\"  alt=\"alt text\" width=\"200\"/></center>\n",
        "<br>\n",
        "<h1><p style=\"text-align: center; color:darkblue\">Python Basic & Plus</p><h1>\n",
        "<center><h1>Workshop - 3</h1></center>\n",
        "<p><img align=\"right\"\n",
        "  src=\"https://secure.meetupstatic.com/photos/event/3/1/b/9/600_488352729.jpeg\"  width=\"15px\"></p>\n",
        "<br>\n",
        "\n",
        "\n",
        "# Subject: Collections - Control Flow Statements - Functions"
      ]
    },
    {
      "cell_type": "markdown",
      "metadata": {
        "id": "EtQPG7LZww1u"
      },
      "source": [
        "## Coding Challenge -1 : Validate Combination of Brackets\n",
        "\n",
        "Purpose of the this coding challenge is to solve a combination problem using loops.\n",
        "\n",
        "### Learning Outcomes\n",
        "\n",
        "At the end of the this coding challenge, students will be able to;\n",
        "\n",
        "- understand the use of loops.\n",
        "- solve the advanced and complicated problems.\n",
        "- understand the importance of pattern recognition.\n",
        "- get a better understanding in manipulating lists or strings.\n",
        "\n",
        "### Problem Statement\n",
        "  \n",
        "- Write a function that given a string containing just the characters `(`, `)`, `{`, `}`, `[` and `]`, determines if the input string is valid or not by using following rules.\n",
        "\n",
        "- An input string is valid if:\n",
        "\n",
        "  - Open brackets must be closed by the same type of brackets.\n",
        "\n",
        "  - Open brackets must be closed in the correct order.\n",
        "\n",
        "- Note that an empty string is also considered valid.\n",
        "\n",
        "- Example for user inputs and respective outputs\n",
        "\n",
        "```bash\n",
        "Input        Output\n",
        "--------:    ------:\n",
        "\"()\"         True\n",
        "\"()[]{}\"     True\n",
        "\"(]\"         False\n",
        "\"([)]\"       False\n",
        "\"{[]}\"       True\n",
        "\"\"           True\n",
        "```"
      ]
    },
    {
      "cell_type": "markdown",
      "metadata": {
        "id": "ZyLRCNmVww1z"
      },
      "source": [
        "### Solution :"
      ]
    },
    {
      "cell_type": "code",
      "metadata": {
        "colab": {
          "base_uri": "https://localhost:8080/"
        },
        "id": "XaQlzIwJww10",
        "outputId": "d2e64432-e26b-4b88-9a43-9f53a46b1cb3"
      },
      "source": [
        "def parantez(yazi):\n",
        "  pr={\"(\":\")\",\"{\":\"}\",\"[\":\"]\"}\n",
        "  sonuc=[]\n",
        "  if len(yazi)==0:\n",
        "    print(True)\n",
        "  elif not len(yazi)%2:\n",
        "    for i in range(len(yazi)):\n",
        "      for key,value in pr.items():\n",
        "        if yazi[i] ==key :\n",
        "          if (yazi[i+1]==value or yazi[-(i+1)]==value): \n",
        "            sonuc.append(True)\n",
        "          else:\n",
        "            sonuc.append(False)\n",
        "        elif yazi[i]==value:\n",
        "          if (yazi[i-1]==key or yazi[-(i+1)]==key):\n",
        "            sonuc.append(True)\n",
        "          else:\n",
        "            sonuc.append(False)\n",
        "  else:\n",
        "    sonuc.append(False)\n",
        "  print(all(sonuc))\n",
        "parantez(\"([)]\")"
      ],
      "execution_count": 24,
      "outputs": [
        {
          "output_type": "stream",
          "text": [
            "False\n"
          ],
          "name": "stdout"
        }
      ]
    },
    {
      "cell_type": "markdown",
      "metadata": {
        "id": "gCMlaTU2ww11"
      },
      "source": [
        "## Coding Challenge - 2: Calculate Stock Profit\n",
        "\n",
        "The purpose of this coding challenge is to write a program that calculates maximum profit you could get from a stock.\n",
        "\n",
        "### Learning Outcomes\n",
        "\n",
        "At the end of this coding challenge, students will be able to;\n",
        "\n",
        "- analyze a problem, identify, and apply programming knowledge for appropriate solution.\n",
        "\n",
        "- design, implement `arithmetic operators` effectively in Python to solve the given problem.\n",
        "\n",
        "- demonstrate their knowledge of algorithmic design principles by solving the problem effectively.\n",
        "\n",
        "### Problem Statement\n",
        "\n",
        "Given an array of numbers representing the stock prices of a company in chronological order, write a function that calculates the maximum profit you could have made from buying and selling that stock once. Note that you must buy before you can sell it.\n",
        "\n",
        "For example, given ``[9, 11, 8, 5, 7, 10]``, you should return 5, since you could buy the stock at 5 dollars and sell it at 10 dollars.\n",
        "\n",
        "Example of different list of stock prices and respective outputs.\n",
        "\n",
        "```bash\n",
        "List = [75,73,60,100,120,130]\n",
        "Output = 70\n",
        "List = [10,20,23,22,17,30]\n",
        "Output = 20\n",
        "List = [1,6,19,59,30,60]\n",
        "Output = 59\n",
        "```"
      ]
    },
    {
      "cell_type": "markdown",
      "metadata": {
        "id": "SSVBJyPQww13"
      },
      "source": [
        "### Solution-1 :"
      ]
    },
    {
      "cell_type": "code",
      "metadata": {
        "id": "fuwEpfmdww13"
      },
      "source": [
        "def buy_and_sell(liste):\n",
        "  return max(liste)-min(liste)"
      ],
      "execution_count": 11,
      "outputs": []
    },
    {
      "cell_type": "code",
      "metadata": {
        "colab": {
          "base_uri": "https://localhost:8080/"
        },
        "id": "ePwm-imkI-Fd",
        "outputId": "80b74131-8a89-469d-ce4d-ddd6afaf10a1"
      },
      "source": [
        "buy_and_sell([22,33,44,55,66])"
      ],
      "execution_count": 22,
      "outputs": [
        {
          "output_type": "execute_result",
          "data": {
            "text/plain": [
              "44"
            ]
          },
          "metadata": {
            "tags": []
          },
          "execution_count": 22
        }
      ]
    },
    {
      "cell_type": "code",
      "metadata": {
        "colab": {
          "base_uri": "https://localhost:8080/"
        },
        "id": "sh2XWl4Tww14",
        "outputId": "b64d82e7-d447-41df-bb88-36e9a7fce01f"
      },
      "source": [
        "buy_and_sell([1,45,6,78,9])"
      ],
      "execution_count": 12,
      "outputs": [
        {
          "output_type": "execute_result",
          "data": {
            "text/plain": [
              "77"
            ]
          },
          "metadata": {
            "tags": []
          },
          "execution_count": 12
        }
      ]
    },
    {
      "cell_type": "markdown",
      "metadata": {
        "id": "raBQO3FMww14"
      },
      "source": [
        "### Solution-2 :"
      ]
    },
    {
      "cell_type": "code",
      "metadata": {
        "id": "dDrDEWS3ww15"
      },
      "source": [
        "def buy_and_sell(liste):\n",
        "  maks=0\n",
        "  minn=liste[0]\n",
        "  for i in liste:\n",
        "    if i<minn:\n",
        "      minn=i\n",
        "    if i>maks:\n",
        "      maks=i\n",
        "  profit=maks-minn\n",
        "  return profit"
      ],
      "execution_count": 20,
      "outputs": []
    },
    {
      "cell_type": "code",
      "metadata": {
        "colab": {
          "base_uri": "https://localhost:8080/"
        },
        "id": "MunA54thww15",
        "outputId": "d98ab2ec-8a8b-4dbd-c9ea-17b38a220e65"
      },
      "source": [
        "buy_and_sell([22,33,44,55,66])"
      ],
      "execution_count": 21,
      "outputs": [
        {
          "output_type": "execute_result",
          "data": {
            "text/plain": [
              "44"
            ]
          },
          "metadata": {
            "tags": []
          },
          "execution_count": 21
        }
      ]
    },
    {
      "cell_type": "markdown",
      "metadata": {
        "id": "jlsR16Fpww16"
      },
      "source": [
        "## Coding Challenge - 3: Morse Translator\n",
        "\n",
        "The purpose of this coding challenge is to write a program that translates the plain text to morse code.\n",
        "\n",
        "### Learning Outcomes\n",
        "\n",
        "At the end of this coding challenge, students will be able to;\n",
        "\n",
        "- Analyze a problem, identify, and apply programming knowledge for an appropriate solution.\n",
        "\n",
        "- Implement loops to solve a problem.\n",
        "\n",
        "- Make use of dictionary data structure to map values. \n",
        "\n",
        "- Demonstrate their knowledge of algorithmic design principles by solving the problem effectively.\n",
        "\n",
        "### Problem Statement\n",
        "\n",
        "Write a function that takes in a plain text as input and converts it into morse alphabet. Following alphabet can be used:\n",
        "\n",
        "```bash\n",
        "{\n",
        "  'A': '.-', 'B': '-...', 'C': '-.-.', 'D': '-..', 'E': '.', 'F': '..-.',\n",
        "  'G': '--.', 'H': '....', 'I': '..', 'J': '.---', 'K': '-.-', 'L': '.-..',\n",
        "  'M': '--', 'N': '-.', 'O': '---', 'P': '.--.', 'Q': '--.-', 'R': '.-.',\n",
        "  'S': '...', 'T': '-', 'U': '..-', 'V': '...-', 'W': '.--', 'X': '-..-',\n",
        "  'Y': '-.--', 'Z': '--..', ' ': ' ', '0': '-----',\n",
        "  '1': '.----', '2': '..---', '3': '...--', '4': '....-', '5': '.....',\n",
        "  '6': '-....', '7': '--...', '8': '---..', '9': '----.',\n",
        "  '&': '.-...', \"'\": '.----.', '@': '.--.-.', ')': '-.--.-', '(': '-.--.',\n",
        "  ':': '---...', ',': '--..--', '=': '-...-', '!': '-.-.--', '.': '.-.-.-',\n",
        "  '-': '-....-', '+': '.-.-.', '\"': '.-..-.', '?': '..--..', '/': '-..-.'\n",
        "}\n",
        "```\n",
        "- Expected Outputs:\n",
        "\n",
        "```bash\n",
        "Input: Hello world!\n",
        "\n",
        "Output:\n",
        ".... . .-.. .-.. ---   .-- --- .-. .-.. -.. -.-.--\n",
        "\n",
        "Input: Good job!\n",
        "\n",
        "Output: --. --- --- -..   .--- --- -... -.-.--\n",
        "```"
      ]
    },
    {
      "cell_type": "markdown",
      "metadata": {
        "id": "4Jc9T_rtww18"
      },
      "source": [
        "### Solution :"
      ]
    },
    {
      "cell_type": "code",
      "metadata": {
        "id": "0Flb1agAJdUG"
      },
      "source": [
        "morse_codes={\n",
        "  'A': '.-', 'B': '-...', 'C': '-.-.', 'D': '-..', 'E': '.', 'F': '..-.',\n",
        "  'G': '--.', 'H': '....', 'I': '..', 'J': '.---', 'K': '-.-', 'L': '.-..',\n",
        "  'M': '--', 'N': '-.', 'O': '---', 'P': '.--.', 'Q': '--.-', 'R': '.-.',\n",
        "  'S': '...', 'T': '-', 'U': '..-', 'V': '...-', 'W': '.--', 'X': '-..-',\n",
        "  'Y': '-.--', 'Z': '--..', ' ': ' ', '0': '-----',\n",
        "  '1': '.----', '2': '..---', '3': '...--', '4': '....-', '5': '.....',\n",
        "  '6': '-....', '7': '--...', '8': '---..', '9': '----.',\n",
        "  '&': '.-...', \"'\": '.----.', '@': '.--.-.', ')': '-.--.-', '(': '-.--.',\n",
        "  ':': '---...', ',': '--..--', '=': '-...-', '!': '-.-.--', '.': '.-.-.-',\n",
        "  '-': '-....-', '+': '.-.-.', '\"': '.-..-.', '?': '..--..', '/': '-..-.'\n",
        "}\n",
        "def encode_morse(ifade):  #yazıyı morsa morsu yazıya çevirir.\n",
        "  ifade=ifade.upper().split()\n",
        "  yeni=\"\"\n",
        "  for i in ifade:\n",
        "    if i in morse_codes.values():\n",
        "      for k, v in morse_codes.items():\n",
        "        if i==v:\n",
        "          yeni+=k\n",
        "    else:\n",
        "      for k in i:\n",
        "        yeni += morse_codes[k]+\" \"\n",
        "  print(yeni)"
      ],
      "execution_count": 29,
      "outputs": []
    },
    {
      "cell_type": "code",
      "metadata": {
        "colab": {
          "base_uri": "https://localhost:8080/"
        },
        "id": "zvV32Ipsww18",
        "outputId": "476d5f9b-9398-4316-f29d-8fd267aafcdf"
      },
      "source": [
        "encode_morse(\"clarusway\")"
      ],
      "execution_count": 30,
      "outputs": [
        {
          "output_type": "stream",
          "text": [
            "-.-. .-.. .- .-. ..- ... .-- .- -.-- \n"
          ],
          "name": "stdout"
        }
      ]
    },
    {
      "cell_type": "code",
      "metadata": {
        "colab": {
          "base_uri": "https://localhost:8080/"
        },
        "id": "1J_DEYSxKR92",
        "outputId": "04b2b5b6-b791-4bc1-a14d-20544c01188a"
      },
      "source": [
        "encode_morse(\"-.-. .-.. .- .-. ..- ... .-- .- -.--\")"
      ],
      "execution_count": 31,
      "outputs": [
        {
          "output_type": "stream",
          "text": [
            "CLARUSWAY\n"
          ],
          "name": "stdout"
        }
      ]
    },
    {
      "cell_type": "code",
      "metadata": {
        "colab": {
          "base_uri": "https://localhost:8080/"
        },
        "id": "ybCY_hoGKyN1",
        "outputId": "81c9fbc4-6640-4c79-9b40-6b33b616eb6e"
      },
      "source": [
        "encode_morse(\"Hello world\")"
      ],
      "execution_count": 32,
      "outputs": [
        {
          "output_type": "stream",
          "text": [
            ".... . .-.. .-.. --- .-- --- .-. .-.. -.. \n"
          ],
          "name": "stdout"
        }
      ]
    }
  ]
}