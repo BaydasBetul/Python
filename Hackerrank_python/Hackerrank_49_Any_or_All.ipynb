{
  "nbformat": 4,
  "nbformat_minor": 0,
  "metadata": {
    "colab": {
      "name": "Hackerrank_49_Any_or_All.ipynb",
      "provenance": []
    },
    "kernelspec": {
      "name": "python3",
      "display_name": "Python 3"
    },
    "language_info": {
      "name": "python"
    }
  },
  "cells": [
    {
      "cell_type": "code",
      "metadata": {
        "colab": {
          "base_uri": "https://localhost:8080/"
        },
        "id": "QP0_1_DMPbav",
        "outputId": "4efa4286-92f9-405f-e543-a8f927b7fc85"
      },
      "source": [
        "n=int(input())\n",
        "liste=list(map(int, input().split()))\n",
        "def pozitif_mi(a):\n",
        "  if a>=0:\n",
        "    return True\n",
        "  else:\n",
        "    return False \n",
        "def palindromic_mi(a):\n",
        "  if int(str(a)[::-1])==a:\n",
        "    return True\n",
        "  else:\n",
        "    return False\n",
        "\n",
        "if all(positif_mi(i) for i in liste):\n",
        "  if any(palindromic_mi(i) for i in liste):\n",
        "    print(True)\n",
        "  else:\n",
        "    print(False)\n",
        "else:\n",
        "  print(False)"
      ],
      "execution_count": 28,
      "outputs": [
        {
          "output_type": "stream",
          "text": [
            "5\n",
            "12 9 61 5 14\n",
            "True\n"
          ],
          "name": "stdout"
        }
      ]
    }
  ]
}