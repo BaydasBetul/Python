{
  "nbformat": 4,
  "nbformat_minor": 0,
  "metadata": {
    "colab": {
      "name": "Hackerrank_Python_toplam.ipynb",
      "provenance": []
    },
    "kernelspec": {
      "name": "python3",
      "display_name": "Python 3"
    },
    "language_info": {
      "name": "python"
    }
  },
  "cells": [
    {
      "cell_type": "markdown",
      "metadata": {
        "id": "1QByhatgmqFC"
      },
      "source": [
        "**1-Python If-Else**\n",
        "\n",
        "Given an integer,n , perform the following conditional actions:\n",
        "\n",
        "If n is odd, print Weird\n",
        "\n",
        "If n is even and in the inclusive range of 2 to 5, print Not Weird\n",
        "\n",
        "If n is even and in the inclusive range of 6 to 20, print Weird\n",
        "\n",
        "If n is even and greater than 20, print Not Weird\n",
        "\n",
        "1<=n<=100"
      ]
    },
    {
      "cell_type": "code",
      "metadata": {
        "id": "FFc2XEdFmppO"
      },
      "source": [
        "n = int(input(\"Lütfen bir sayı giriniz \"))\n",
        "if n%2==1:\n",
        "    print(\"Weird\")\n",
        "elif n%2==0 and 2<=n<=5:\n",
        "    print(\"Not Weird\")\n",
        "elif n%2==0 and 6<=n<=20:\n",
        "    print(\"Weird\")\n",
        "elif n%2==0 and n>20:\n",
        "    print(\"Not Weird\")"
      ],
      "execution_count": null,
      "outputs": []
    },
    {
      "cell_type": "markdown",
      "metadata": {
        "id": "lswe6Ibxm81Q"
      },
      "source": [
        "**2-What's_your_name** \n",
        "\n",
        "You are given the firstname and lastname of a person on two different lines. Your task is to read them and print the following:\n",
        "\n",
        "Hello firstname lastname! You just delved into python."
      ]
    },
    {
      "cell_type": "code",
      "metadata": {
        "id": "HUSzBz2zmNne"
      },
      "source": [
        "def print_full_name(first, last):\n",
        "    print(\"Hello\", first, last + \"! You just delved into python.\")\n",
        "if __name__ == '__main__':\n",
        "    first_name = input()\n",
        "    last_name = input()\n",
        "    print_full_name(first_name, last_name)"
      ],
      "execution_count": null,
      "outputs": []
    },
    {
      "cell_type": "markdown",
      "metadata": {
        "id": "LhMaXtFWnS2N"
      },
      "source": [
        "**3-Arithmetic Operators**\n",
        "\n",
        "The provided code stub reads two integers from STDIN,  and . Add code to print three lines where:\n",
        "\n",
        "The first line contains the sum of the two numbers.\n",
        "\n",
        "The second line contains the difference of the two numbers (first - second).\n",
        "\n",
        "The third line contains the product of the two numbers."
      ]
    },
    {
      "cell_type": "code",
      "metadata": {
        "colab": {
          "base_uri": "https://localhost:8080/"
        },
        "id": "6BG2CCtYnk4J",
        "outputId": "eb3a39d4-8482-42ab-84c0-9c44d8ab2f36"
      },
      "source": [
        "a = int(input())\n",
        "b = int(input())\n",
        "print(a+b)\n",
        "print(a-b)\n",
        "print(a*b)"
      ],
      "execution_count": 1,
      "outputs": [
        {
          "output_type": "stream",
          "text": [
            "3\n",
            "2\n",
            "5\n",
            "1\n",
            "6\n"
          ],
          "name": "stdout"
        }
      ]
    },
    {
      "cell_type": "markdown",
      "metadata": {
        "id": "t0C9Nm12nvVH"
      },
      "source": [
        "**4- Mutate String**\n",
        "\n",
        "Read a given string, change the character at a given index and then print the modified string.\n",
        "\n",
        "```\n",
        "# Sample Input\n",
        "\n",
        "# STDIN           Function\n",
        "# -----           --------\n",
        "# abracadabra     s = 'abracadabra'\n",
        "# 5 k             position = 5, character = 'k'\n",
        "\n",
        "# Sample Output\n",
        "\n",
        "# abrackdabra\n",
        "\n",
        "```"
      ]
    },
    {
      "cell_type": "code",
      "metadata": {
        "id": "_RaYpH5zoBCm"
      },
      "source": [
        "def mutate_string(string, position, character):\n",
        "    a=list(s)\n",
        "    a[int(i)]=c\n",
        "    a=\"\".join(a)\n",
        "    return a\n",
        "\n",
        "if __name__ == '__main__':\n",
        "    s = input()\n",
        "    i, c = input().split()\n",
        "    s_new = mutate_string(s, int(i), c)\n",
        "    print(s_new)"
      ],
      "execution_count": null,
      "outputs": []
    },
    {
      "cell_type": "markdown",
      "metadata": {
        "id": "i-eQy-0BoPCO"
      },
      "source": [
        "**5-Split and join**\n",
        "\n",
        "Task You are given a string. Split the string on a \" \" (space) delimiter and join using a - hyphen.\n",
        "\n",
        "Sample Input\n",
        "\n",
        "this is a string\n",
        "\n",
        "Sample Output\n",
        "\n",
        "this-is-a-string"
      ]
    },
    {
      "cell_type": "code",
      "metadata": {
        "id": "SzFQNAeZofX_"
      },
      "source": [
        "def split_and_join(line):\n",
        "    return \"-\".join(line.split(\" \"))\n",
        "\n",
        "if __name__ == '__main__':\n",
        "    line = input()\n",
        "    result = split_and_join(line)\n",
        "    print(result)"
      ],
      "execution_count": null,
      "outputs": []
    },
    {
      "cell_type": "markdown",
      "metadata": {
        "id": "4rKQJYPFogks"
      },
      "source": [
        "**6-count substring**\n",
        "\n",
        "In this challenge, the user enters a string and a substring. You have to print the number of times that the substring occurs in the given string. String traversal will take place from left to right, not from right to left.\n",
        "\n",
        "NOTE: String letters are case-sensitive."
      ]
    },
    {
      "cell_type": "code",
      "metadata": {
        "id": "ShJQ1zb2oye9"
      },
      "source": [
        "def count_substring(string, sub_string):\n",
        "  sum=0\n",
        "  for i in range(0,len(string)+1):\n",
        "    if string[i:(i+len(sub_string))]==sub_string:\n",
        "      sum+=1 \n",
        "  return sum\n",
        "     \n",
        "if __name__ == '__main__':\n",
        "    string = input().strip()\n",
        "    sub_string = input().strip()\n",
        "    \n",
        "    count = count_substring(string, sub_string)\n",
        "    print(count) "
      ],
      "execution_count": null,
      "outputs": []
    },
    {
      "cell_type": "markdown",
      "metadata": {
        "id": "torVLrPGo0-W"
      },
      "source": [
        "**7-**\n",
        "Given the names and grades for each student in a class of N students, store them in a nested list and print the name(s) of any student(s) having the second lowest grade.\n",
        "\n",
        "Note: If there are multiple students with the second lowest grade, order their names alphabetically and print each name on a new line."
      ]
    },
    {
      "cell_type": "code",
      "metadata": {
        "id": "62jsQuIypBra"
      },
      "source": [
        "if __name__ == '__main__':  \n",
        "    liste=[]\n",
        "    liste_n=[]\n",
        "    for _ in range(int(input())):\n",
        "        name = input()\n",
        "        score = float(input())\n",
        "        liste.append([name,score])\n",
        "        liste.sort()\n",
        "    for i in liste:\n",
        "      liste_n.append(i[1])\n",
        "      notlar = list(set(liste_n))\n",
        "      notlar.sort()\n",
        "    for j in liste:\n",
        "      if j[1]==notlar[1]:\n",
        "        print(j[0]) "
      ],
      "execution_count": null,
      "outputs": []
    },
    {
      "cell_type": "markdown",
      "metadata": {
        "id": "fB0OhpBSpNxn"
      },
      "source": [
        "**8-**The provided code stub will read in a dictionary containing key/value pairs of name:[marks] for a list of students. Print the average of the marks array for the student name provided, showing 2 places after the decimal.\n",
        "\n",
        "Input Format\n",
        "\n",
        "The first line contains the integer , the number of students' records. The next lines contain the names and marks obtained by a student, each value separated by a space. The final line contains query_name, the name of a student to query.\n",
        "\n",
        "Output Format\n",
        "\n",
        "Print one line: The average of the marks obtained by the particular student correct to 2 decimal places."
      ]
    },
    {
      "cell_type": "code",
      "metadata": {
        "id": "IQRvnqZnpRG4"
      },
      "source": [
        "if __name__ == '__main__':\n",
        "  n = int(input())\n",
        "  student_marks = {}   \n",
        "  for _ in range(n):\n",
        "    name, *line = input().split()    \n",
        "    scores = list(map(float, line))\n",
        "    student_marks[name]=sum(scores)/len(scores)\n",
        "  query_name = input()      \n",
        "print(\"{:.2f}\".format(student_marks[query_name]))"
      ],
      "execution_count": null,
      "outputs": []
    },
    {
      "cell_type": "markdown",
      "metadata": {
        "id": "emtFewFDpUL-"
      },
      "source": [
        "**9-Loops**\n",
        "\n",
        "The provided code stub reads and integer,n , from STDIN. For all non-negative integers i<n, print i**2 .\n",
        "\n",
        "Sample Input\n",
        "\n",
        "5\n",
        "\n",
        "Sample Output 0\n",
        "\n",
        "0\n",
        "\n",
        "1\n",
        "\n",
        "4\n",
        "\n",
        "9\n",
        "\n",
        "16"
      ]
    },
    {
      "cell_type": "code",
      "metadata": {
        "id": "cXR8zX1vpTrQ"
      },
      "source": [
        "if __name__ == '__main__':\n",
        "    n = int(input())\n",
        "    i=0\n",
        "    while i<n:\n",
        "        print(i**2)\n",
        "        i+=1"
      ],
      "execution_count": null,
      "outputs": []
    },
    {
      "cell_type": "markdown",
      "metadata": {
        "id": "yRgoHyPUprxT"
      },
      "source": [
        "**10-Text alignment**\n",
        "\n",
        "You are given a partial code that is used for generating the HackerRank Logo of variable thickness. Your task is to replace the blank (__) with rjust, ljust or center."
      ]
    },
    {
      "cell_type": "code",
      "metadata": {
        "colab": {
          "base_uri": "https://localhost:8080/"
        },
        "id": "1odQQVaIqJhs",
        "outputId": "8af72541-1142-47f3-a31c-e6ebfcfe9ea0"
      },
      "source": [
        "thickness = int(input()) #This must be an odd number\n",
        "c = 'H'\n",
        "\n",
        "#Top Cone\n",
        "for i in range(thickness):\n",
        "    print((c*i).rjust(thickness-1)+c+(c*i).ljust(thickness-1))\n",
        "\n",
        "#Top Pillars\n",
        "for i in range(thickness+1):\n",
        "    print((c*thickness).center(thickness*2)+(c*thickness).center(thickness*6))\n",
        "\n",
        "#Middle Belt\n",
        "for i in range((thickness+1)//2):\n",
        "    print((c*thickness*5).center(thickness*6))    \n",
        "\n",
        "#Bottom Pillars\n",
        "for i in range(thickness+1):\n",
        "    print((c*thickness).center(thickness*2)+(c*thickness).center(thickness*6))    \n",
        "\n",
        "#Bottom Cone\n",
        "for i in range(thickness):\n",
        "    print(((c*(thickness-i-1)).rjust(thickness)+c+(c*(thickness-i-1)).ljust(thickness)).rjust(thickness*6))\n"
      ],
      "execution_count": 2,
      "outputs": [
        {
          "output_type": "stream",
          "text": [
            "5\n",
            "    H    \n",
            "   HHH   \n",
            "  HHHHH  \n",
            " HHHHHHH \n",
            "HHHHHHHHH\n",
            "  HHHHH               HHHHH             \n",
            "  HHHHH               HHHHH             \n",
            "  HHHHH               HHHHH             \n",
            "  HHHHH               HHHHH             \n",
            "  HHHHH               HHHHH             \n",
            "  HHHHH               HHHHH             \n",
            "  HHHHHHHHHHHHHHHHHHHHHHHHH   \n",
            "  HHHHHHHHHHHHHHHHHHHHHHHHH   \n",
            "  HHHHHHHHHHHHHHHHHHHHHHHHH   \n",
            "  HHHHH               HHHHH             \n",
            "  HHHHH               HHHHH             \n",
            "  HHHHH               HHHHH             \n",
            "  HHHHH               HHHHH             \n",
            "  HHHHH               HHHHH             \n",
            "  HHHHH               HHHHH             \n",
            "                    HHHHHHHHH \n",
            "                     HHHHHHH  \n",
            "                      HHHHH   \n",
            "                       HHH    \n",
            "                        H     \n"
          ],
          "name": "stdout"
        }
      ]
    },
    {
      "cell_type": "markdown",
      "metadata": {
        "id": "8YjtU-y7qNvm"
      },
      "source": [
        "**11-Swap case**\n",
        "\n",
        "You are given a string and your task is to swap cases. In other words, convert all lowercase letters to uppercase letters and vice versa."
      ]
    },
    {
      "cell_type": "code",
      "metadata": {
        "colab": {
          "base_uri": "https://localhost:8080/"
        },
        "id": "noq8H9ppqZKS",
        "outputId": "564759b1-fbaa-45ee-d477-e7ef1c6c8d4b"
      },
      "source": [
        "def swap_case(s):\n",
        "    return s.swapcase()\n",
        "\n",
        "if __name__ == '__main__':\n",
        "    s = input()\n",
        "    result = swap_case(s)\n",
        "    print(result)"
      ],
      "execution_count": 3,
      "outputs": [
        {
          "output_type": "stream",
          "text": [
            "HackerRank.com presents \"Pythonist 2\"\n",
            "hACKERrANK.COM PRESENTS \"pYTHONIST 2\"\n"
          ],
          "name": "stdout"
        }
      ]
    },
    {
      "cell_type": "markdown",
      "metadata": {
        "id": "toJw1T97qj3_"
      },
      "source": [
        "**12-string_validators**\n",
        "\n",
        "You are given a string . Your task is to find out if the string contains: alphanumeric characters, alphabetical characters, digits, lowercase and uppercase characters\n",
        "\n",
        "str.isalnum()\n",
        "\n",
        "str.isalpha()\n",
        "\n",
        "str.isdigit()\n",
        "\n",
        "str.islower()\n",
        "\n",
        "str.isupper()\n",
        "\n",
        "Sample Input\n",
        "\n",
        "qA2\n",
        "\n",
        "Sample Output\n",
        "\n",
        "True\n",
        "\n",
        "True\n",
        "\n",
        "True\n",
        "\n",
        "True\n",
        "\n",
        "True\n"
      ]
    },
    {
      "cell_type": "code",
      "metadata": {
        "id": "q8Qf6bYcqs27"
      },
      "source": [
        "if __name__ == '__main__':\n",
        "  s=input()\n",
        "n=0\n",
        "while n<len(s):\n",
        "  if s[n].isalnum()!=True:\n",
        "    n+=1\n",
        "    if n==len(s)-1 and s[len(s)-1].isalnum()!=True:\n",
        "      print(False)\n",
        "  elif s[n].isalnum()==True:\n",
        "    print(True)\n",
        "    break\n",
        "  else:\n",
        "    print(False)\n",
        "    break\n",
        "n=0\n",
        "while n<len(s):\n",
        "  if s[n].isalpha()!=True:\n",
        "    n+=1\n",
        "    if n==len(s)-1 and s[len(s)-1].isalpha()!=True:\n",
        "      print(False)\n",
        "  elif s[n].isalpha()==True:\n",
        "    print(True)\n",
        "    break\n",
        "  else:\n",
        "    print(False)\n",
        "    break\n",
        "n=0\n",
        "while n<len(s):\n",
        "  if s[n].isdigit()!=True:\n",
        "    n+=1\n",
        "    if n==len(s)-1 and s[len(s)-1].isdigit()!=True:\n",
        "      print(False)\n",
        "  elif s[n].isdigit()==True:\n",
        "    print(True)\n",
        "    break\n",
        "  else:\n",
        "    print(False)\n",
        "    break\n",
        "n=0\n",
        "while n<len(s):\n",
        "  if s[n].islower()!=True:\n",
        "    n+=1\n",
        "    if n==len(s)-1 and s[len(s)-1].islower()!=True:\n",
        "      print(False)\n",
        "  elif s[n].islower()==True:\n",
        "    print(True)\n",
        "    break\n",
        "  else:\n",
        "    print(False)\n",
        "    break\n",
        "n=0\n",
        "while n<len(s):\n",
        "  if s[n].isupper()!=True:\n",
        "    n+=1\n",
        "    if n==len(s)-1 and s[len(s)-1].isupper()!=True:\n",
        "      print(False)\n",
        "  elif s[n].isupper()==True:\n",
        "    print(True)\n",
        "    break\n",
        "  else:\n",
        "    print(False)\n",
        "    break"
      ],
      "execution_count": null,
      "outputs": []
    },
    {
      "cell_type": "markdown",
      "metadata": {
        "id": "fdQEV-vdq36a"
      },
      "source": [
        "**13-textwrap**\n",
        "\n",
        "You are given a S string and width w. Your task is to wrap the string into a paragraph of width w.\n",
        "\n",
        "Sample Input\n",
        "\n",
        "ABCDEFGHIJKLIMNOQRSTUVWXYZ\n",
        "\n",
        "4\n",
        "\n",
        "Sample Output\n",
        "\n",
        "ABCD\n",
        "\n",
        "EFGH\n",
        "\n",
        "IJKL\n",
        "\n",
        "IMNO\n",
        "\n",
        "QRST\n",
        "\n",
        "UVWX\n",
        "\n",
        "YZ"
      ]
    },
    {
      "cell_type": "code",
      "metadata": {
        "id": "-MCmfTlNrFxR"
      },
      "source": [
        "import textwrap\n",
        "def wrap(string, max_width):\n",
        "  new_string=\"\"  \n",
        "  for i in range(len(string)//max_width):\n",
        "    new_string+= (string[i*max_width:max_width*(i+1)]+\"\\n\")\n",
        "  new_string+= (string[-(len(string)%max_width): ])\n",
        "  return new_string\n",
        "\n",
        "if __name__ == '__main__':\n",
        "    string, max_width = input(), int(input())\n",
        "    result = wrap(string, max_width)\n",
        "    print(result)"
      ],
      "execution_count": null,
      "outputs": []
    },
    {
      "cell_type": "markdown",
      "metadata": {
        "id": "3hrEZWykrMlf"
      },
      "source": [
        "**14-leap year**\n",
        "\n",
        "An extra day is added to the calendar almost every four years as February 29, and the day is called a leap day. It corrects the calendar for the fact that our planet takes approximately 365.25 days to orbit the sun. A leap year contains a leap day.\n",
        "\n",
        "In the Gregorian calendar, three conditions are used to identify leap years:\n",
        "\n",
        "The year can be evenly divided by 4, is a leap year, unless: The year can be evenly divided by 100, it is NOT a leap year, unless: The year is also evenly divisible by 400. Then it is a leap year. This means that in the Gregorian calendar, the years 2000 and 2400 are leap years, while 1800, 1900, 2100, 2200, 2300 and 2500 are NOT leap years. Source\n",
        "\n",
        "Task\n",
        "\n",
        "Given a year, determine whether it is a leap year. If it is a leap year, return the Boolean True, otherwise return False.\n",
        "\n",
        "Note that the code stub provided reads from STDIN and passes arguments to the is_leap function. It is only necessary to complete the is_leap function"
      ]
    },
    {
      "cell_type": "code",
      "metadata": {
        "id": "R7a9zbM2ram3"
      },
      "source": [
        "def is_leap(year):\n",
        "    leap = False\n",
        "      \n",
        "    if year % 400 == 0:\n",
        "        return (not leap) \n",
        "    elif year % 100 == 0:\n",
        "        return (leap)\n",
        "    elif year%4==0:\n",
        "        return not leap \n",
        "    else:\n",
        "        return (leap)\n",
        "            \n",
        "\n",
        "year = int(input())\n",
        "print(is_leap(year))"
      ],
      "execution_count": null,
      "outputs": []
    },
    {
      "cell_type": "markdown",
      "metadata": {
        "id": "pYomS09xrhEr"
      },
      "source": [
        "**15-Tuples**\n",
        "\n",
        "Given an integer,n , and n space-separated integers as input, create a tuple,t , of those n integers. Then compute and print the result of hash(t).\n",
        "\n",
        "Sample Input\n",
        "\n",
        "2\n",
        "\n",
        "1 2\n",
        "\n",
        "Sample Output\n",
        "\n",
        "3713081631934410656\n"
      ]
    },
    {
      "cell_type": "code",
      "metadata": {
        "id": "MNAe1w0Ur3O6"
      },
      "source": [
        "if __name__ == '__main__':\n",
        "    n = int(input())\n",
        "    integer_list = map(int, input().split())\n",
        "    t=tuple(integer_list)\n",
        "    print(hash(t))\n",
        "  "
      ],
      "execution_count": null,
      "outputs": []
    },
    {
      "cell_type": "markdown",
      "metadata": {
        "id": "ydAj1wR3r6v3"
      },
      "source": [
        "**16-Lists**\n",
        "\n",
        "Consider a list (list = []). You can perform the following commands:\n",
        "\n",
        "insert i e: Insert integer at position .\n",
        "\n",
        "print: Print the list.\n",
        "\n",
        "remove e: Delete the first occurrence of integer .\n",
        "\n",
        "append e: Insert integer at the end of the list.\n",
        "\n",
        "sort: Sort the list.\n",
        "\n",
        "pop: Pop the last element from the list.\n",
        "\n",
        "reverse: Reverse the list.\n",
        "\n",
        "Initialize your list and read in the value of followed by lines of commands where each command will be of the types listed above. Iterate through each command in order and perform the corresponding operation on your list.\n",
        "\n",
        "Sample Input\n",
        "\n",
        "12\n",
        "\n",
        "insert 0 5\n",
        "\n",
        "insert 1 10\n",
        "\n",
        "insert 0 6\n",
        "\n",
        "print\n",
        "\n",
        "remove 6\n",
        "\n",
        "append 9\n",
        "\n",
        "append 1\n",
        "\n",
        "sort\n",
        "\n",
        "print\n",
        "\n",
        "pop\n",
        "\n",
        "reverse\n",
        "\n",
        "print\n",
        "\n",
        "Sample Output\n",
        "\n",
        "[6, 5, 10]\n",
        "\n",
        "[1, 5, 9, 10]\n",
        "\n",
        "[9, 5, 1]"
      ]
    },
    {
      "cell_type": "code",
      "metadata": {
        "id": "sijOd3W_r6VL"
      },
      "source": [
        "if __name__ == '__main__':\n",
        "  N = int(input())\n",
        "  liste=[]\n",
        "  for _ in range(N):\n",
        "    name, *line = input().split()    \n",
        "    scores = str(tuple(map(int, line)))\n",
        "    result=\"liste.\"+name+scores\n",
        "    if name==\"print\":\n",
        "      print(liste)\n",
        "    else:   \n",
        "      eval(result)"
      ],
      "execution_count": null,
      "outputs": []
    },
    {
      "cell_type": "markdown",
      "metadata": {
        "id": "oIG-2HKIsLjn"
      },
      "source": [
        "**17-Print the functions**\n",
        "\n",
        "Sample Input\n",
        "\n",
        "3\n",
        "\n",
        "Sample Output\n",
        "\n",
        "123\n",
        "\n",
        "example\n",
        "\n",
        "n=5\n",
        "\n",
        "print the string 12345\n"
      ]
    },
    {
      "cell_type": "code",
      "metadata": {
        "id": "mXq69z8gsaEa"
      },
      "source": [
        "if __name__ == '__main__':\n",
        "    n = int(input())\n",
        "    i=1\n",
        "    sayi=\"\"\n",
        "    for i in range(1,(n+1)):\n",
        "        sayi+=str(i)\n",
        "    print(sayi)"
      ],
      "execution_count": null,
      "outputs": []
    },
    {
      "cell_type": "markdown",
      "metadata": {
        "id": "-K91oEpvsc3y"
      },
      "source": [
        "**18-Nested Lists**\n",
        "\n",
        "Given the names and grades for each student in a class of N students, store them in a nested list and print the name(s) of any student(s) having the second lowest grade.\n",
        "\n",
        "Note: If there are multiple students with the second lowest grade, order their names alphabetically and print each name on a new line.\n",
        "\n",
        "Sample Input\n",
        "\n",
        "5\n",
        "\n",
        "Harry\n",
        "\n",
        "37.21\n",
        "\n",
        "Berry\n",
        "\n",
        "37.21\n",
        "\n",
        "Tina\n",
        "\n",
        "37.2\n",
        "\n",
        "Akriti\n",
        "\n",
        "41\n",
        "\n",
        "Harsh\n",
        "\n",
        "39\n",
        "\n",
        "Sample Output\n",
        "\n",
        "Berry\n",
        "\n",
        "Harry"
      ]
    },
    {
      "cell_type": "code",
      "metadata": {
        "id": "318XBMPKsodE"
      },
      "source": [
        "if __name__ == '__main__':   \n",
        "    liste=[]\n",
        "    liste_n=[]\n",
        "    for _ in range(int(input())):\n",
        "        name = input()\n",
        "        score = float(input())\n",
        "        liste.append([name,score])\n",
        "        liste.sort()\n",
        "    for i in liste:\n",
        "      liste_n.append(i[1])\n",
        "      notlar = list(set(liste_n))\n",
        "      notlar.sort()\n",
        "    for j in liste:\n",
        "      if j[1]==notlar[1]:\n",
        "        print(j[0])"
      ],
      "execution_count": null,
      "outputs": []
    },
    {
      "cell_type": "markdown",
      "metadata": {
        "id": "qquapCgFstyg"
      },
      "source": [
        "**19-Symetricdiffirence_Introductiontosets**\n",
        "\n",
        "Ms. Gabriel Williams is a botany professor at District College. One day, she asked her student Mickey to compute the average of all the plants with distinct heights in her greenhouse.\n",
        "\n",
        "Input Format\n",
        "\n",
        "The first line contains the integer,N , the size of arr. The second line contains the N space-separated integers,arr[i]"
      ]
    },
    {
      "cell_type": "code",
      "metadata": {
        "id": "cGI6WAGms5eE"
      },
      "source": [
        "def average(array):\n",
        "    return sum(set(arr))/len(set(arr))\n",
        "  \n",
        "if __name__ == '__main__':\n",
        "    n = int(input())\n",
        "    arr = list(map(int, input().split()))\n",
        "    result = average(arr)\n",
        "    print(result)"
      ],
      "execution_count": null,
      "outputs": []
    },
    {
      "cell_type": "code",
      "metadata": {
        "id": "2nWrBAiKs8_M"
      },
      "source": [
        "a_sayisi=int(input())\n",
        "a_set=set(input().split())\n",
        "b_sayisi=int(input())\n",
        "b_set=set(input().split())\n",
        "str_list=(a_set.difference(b_set)).union(b_set.difference(a_set))\n",
        "int_list=[]\n",
        "for i in str_list:\n",
        "  int_list.append(int(i))\n",
        "print(*sorted(int_list), sep=\"\\n\")"
      ],
      "execution_count": null,
      "outputs": []
    },
    {
      "cell_type": "markdown",
      "metadata": {
        "id": "MsxjaBbLs_5o"
      },
      "source": [
        "**20-Alpahabet_Rangoli**\n",
        "#size 3\n",
        "\n",
        "----c----\n",
        "\n",
        "--c-b-c--\n",
        "\n",
        "c-b-a-b-c\n",
        "\n",
        "--c-b-c--\n",
        "\n",
        "----c----\n",
        "\n",
        "\n",
        "#size 5\n",
        "\n",
        "--------e--------\n",
        "\n",
        "------e-d-e------\n",
        "\n",
        "----e-d-c-d-e----\n",
        "\n",
        "--e-d-c-b-c-d-e--\n",
        "\n",
        "e-d-c-b-a-b-c-d-e\n",
        "\n",
        "--e-d-c-b-c-d-e--\n",
        "\n",
        "----e-d-c-d-e----\n",
        "\n",
        "------e-d-e------\n",
        "\n",
        "--------e--------\n",
        "\n",
        "İşlemin daha iyi anlaşılması için string ve listeyi yazdırdım."
      ]
    },
    {
      "cell_type": "code",
      "metadata": {
        "colab": {
          "base_uri": "https://localhost:8080/"
        },
        "id": "uhNUzPoXtJat",
        "outputId": "c32959ab-dead-44db-e82f-77a8f977fdc1"
      },
      "source": [
        "def print_rangoli(size):\n",
        "    alpha=\"abcdefghijklmnopqrstuvwxyz\"\n",
        "    liste = []\n",
        "    for i in range(n):\n",
        "        string = \"-\".join(alpha[i:n])\n",
        "        liste.append((string[::-1]+string[1:]).center(4*n-3, \"-\"))\n",
        "    print('\\n'.join(liste[:0:-1]+liste))\n",
        "\n",
        "if __name__ == '__main__':\n",
        "    n = int(input())\n",
        "    print_rangoli(n)"
      ],
      "execution_count": 4,
      "outputs": [
        {
          "output_type": "stream",
          "text": [
            "4\n",
            "------d------\n",
            "----d-c-d----\n",
            "--d-c-b-c-d--\n",
            "d-c-b-a-b-c-d\n",
            "--d-c-b-c-d--\n",
            "----d-c-d----\n",
            "------d------\n"
          ],
          "name": "stdout"
        }
      ]
    },
    {
      "cell_type": "markdown",
      "metadata": {
        "id": "ezgveopZtTLf"
      },
      "source": [
        "**21-collctionsCounter()**\n",
        "\n",
        "Task\n",
        "\n",
        "Ra is a shoe shop owner. His shop has X number of shoes. He has a list containing the size of each shoe he has in his shop. There are N number of customers who are willing to pay x amount of money only if they get the shoe of their desired size.\n",
        "\n",
        "Your task is to compute how much money Ra earned\n"
      ]
    },
    {
      "cell_type": "code",
      "metadata": {
        "id": "CB8dOxdwttwX"
      },
      "source": [
        "liste_eleman_sayi=input()\n",
        "liste=[int(i) for i in input().split()]\n",
        "musteri_sayi=int(input())\n",
        "istek_liste=[]\n",
        "for i in range(musteri_sayi):\n",
        "  istek_liste.append([int(k) for k in input().split()])\n",
        "szlk={}\n",
        "top=0\n",
        "for i in liste:\n",
        "  szlk[i]=liste.count(i)\n",
        "for key, value in list(szlk.items()):\n",
        "  for istek, fiyat in istek_liste:\n",
        "    if istek==key and value!=0:\n",
        "      top += fiyat\n",
        "      value-=1\n",
        "print(top)"
      ],
      "execution_count": null,
      "outputs": []
    },
    {
      "cell_type": "markdown",
      "metadata": {
        "id": "JrQrRsBUt2sp"
      },
      "source": [
        "**22-itertools product**\n",
        "\n",
        "You are given a two lists A and B. Your task is to compute their cartesian product AxB.\n",
        "\n",
        "Sample Input\n",
        "\n",
        "1 2\n",
        "\n",
        "3 4\n",
        "\n",
        "Sample Output\n",
        "\n",
        "(1, 3) (1, 4) (2, 3) (2, 4)"
      ]
    },
    {
      "cell_type": "code",
      "metadata": {
        "id": "DbgSpBPMuAaZ"
      },
      "source": [
        "from itertools import product\n",
        "liste_a = list((map(int, input().split())))\n",
        "liste_b = list(map(int, input().split()))\n",
        "a=list(product(liste_a,liste_b))\n",
        "for i in a:\n",
        "    print(i, end= \" \")"
      ],
      "execution_count": null,
      "outputs": []
    }
  ]
}